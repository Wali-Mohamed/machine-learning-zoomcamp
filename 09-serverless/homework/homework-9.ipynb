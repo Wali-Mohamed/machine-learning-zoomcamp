{
 "cells": [
  {
   "cell_type": "code",
   "execution_count": 1,
   "id": "56941b43-f66d-4151-bc8c-532c42d27df0",
   "metadata": {
    "execution": {
     "iopub.execute_input": "2024-12-16T13:34:52.475225Z",
     "iopub.status.busy": "2024-12-16T13:34:52.474805Z",
     "iopub.status.idle": "2024-12-16T13:34:53.121914Z",
     "shell.execute_reply": "2024-12-16T13:34:53.121178Z",
     "shell.execute_reply.started": "2024-12-16T13:34:52.475157Z"
    },
    "tags": []
   },
   "outputs": [
    {
     "name": "stdout",
     "output_type": "stream",
     "text": [
      "total 16K\n",
      "-rw-rw-r-- 1 jovyan jovyan 352 Dec 13 23:46 converting_model.py\n",
      "-rw-rw-r-- 1 jovyan jovyan 12K Dec 15 22:12 homework-9.ipynb\n"
     ]
    }
   ],
   "source": [
    "!ls -lh"
   ]
  },
  {
   "cell_type": "code",
   "execution_count": 2,
   "id": "871029c3-757e-4a6e-8ca6-218f415bea25",
   "metadata": {
    "execution": {
     "iopub.execute_input": "2024-12-15T22:11:18.374343Z",
     "iopub.status.busy": "2024-12-15T22:11:18.373928Z",
     "iopub.status.idle": "2024-12-15T22:11:20.482332Z",
     "shell.execute_reply": "2024-12-15T22:11:20.481327Z",
     "shell.execute_reply.started": "2024-12-15T22:11:18.374314Z"
    },
    "tags": []
   },
   "outputs": [
    {
     "name": "stdout",
     "output_type": "stream",
     "text": [
      "Requirement already satisfied: numpy==1.24 in /opt/saturncloud/envs/saturn/lib/python3.9/site-packages (1.24.0)\n",
      "Note: you may need to restart the kernel to use updated packages.\n"
     ]
    }
   ],
   "source": [
    "pip install numpy==1.24\n"
   ]
  },
  {
   "cell_type": "code",
   "execution_count": 3,
   "id": "84b3a7ac-ec0d-4fb4-8e7f-4390e4f53959",
   "metadata": {
    "execution": {
     "iopub.execute_input": "2024-12-15T22:11:22.642194Z",
     "iopub.status.busy": "2024-12-15T22:11:22.641779Z",
     "iopub.status.idle": "2024-12-15T22:11:23.259938Z",
     "shell.execute_reply": "2024-12-15T22:11:23.259169Z",
     "shell.execute_reply.started": "2024-12-15T22:11:22.642163Z"
    },
    "tags": []
   },
   "outputs": [
    {
     "name": "stdout",
     "output_type": "stream",
     "text": [
      "-rw-rw-r-- 1 jovyan jovyan 154M Dec 13 13:19 model_2024_hairstyle.keras\n"
     ]
    }
   ],
   "source": [
    "ls -lh model_2024_hairstyle.keras\n"
   ]
  },
  {
   "cell_type": "code",
   "execution_count": 25,
   "id": "011b26e9-c11d-460b-9eaa-6b5bd77303c9",
   "metadata": {
    "execution": {
     "iopub.execute_input": "2024-12-16T14:40:36.862802Z",
     "iopub.status.busy": "2024-12-16T14:40:36.862418Z",
     "iopub.status.idle": "2024-12-16T14:40:36.866099Z",
     "shell.execute_reply": "2024-12-16T14:40:36.865381Z",
     "shell.execute_reply.started": "2024-12-16T14:40:36.862778Z"
    },
    "tags": []
   },
   "outputs": [],
   "source": [
    "import numpy as np"
   ]
  },
  {
   "cell_type": "code",
   "execution_count": 5,
   "id": "b633e30f-7d7e-4558-a32c-fcf0ba012e02",
   "metadata": {
    "execution": {
     "iopub.execute_input": "2024-12-15T22:11:34.000421Z",
     "iopub.status.busy": "2024-12-15T22:11:33.999909Z",
     "iopub.status.idle": "2024-12-15T22:11:40.638764Z",
     "shell.execute_reply": "2024-12-15T22:11:40.637522Z",
     "shell.execute_reply.started": "2024-12-15T22:11:34.000394Z"
    },
    "tags": []
   },
   "outputs": [
    {
     "name": "stderr",
     "output_type": "stream",
     "text": [
      "2024-12-15 22:11:34.131888: I tensorflow/core/util/util.cc:169] oneDNN custom operations are on. You may see slightly different numerical results due to floating-point round-off errors from different computation orders. To turn them off, set the environment variable `TF_ENABLE_ONEDNN_OPTS=0`.\n"
     ]
    },
    {
     "ename": "OSError",
     "evalue": "Unable to open file (file signature not found)",
     "output_type": "error",
     "traceback": [
      "\u001b[0;31m---------------------------------------------------------------------------\u001b[0m",
      "\u001b[0;31mOSError\u001b[0m                                   Traceback (most recent call last)",
      "Cell \u001b[0;32mIn [5], line 7\u001b[0m\n\u001b[1;32m      4\u001b[0m \u001b[38;5;28;01mimport\u001b[39;00m \u001b[38;5;21;01mtensorflow\u001b[39;00m \u001b[38;5;28;01mas\u001b[39;00m \u001b[38;5;21;01mtf\u001b[39;00m\n\u001b[1;32m      5\u001b[0m \u001b[38;5;28;01mfrom\u001b[39;00m \u001b[38;5;21;01mtensorflow\u001b[39;00m \u001b[38;5;28;01mimport\u001b[39;00m keras\n\u001b[0;32m----> 7\u001b[0m model \u001b[38;5;241m=\u001b[39m keras\u001b[38;5;241m.\u001b[39mmodels\u001b[38;5;241m.\u001b[39mload_model(\u001b[38;5;124m'\u001b[39m\u001b[38;5;124mmodel_2024_hairstyle.keras\u001b[39m\u001b[38;5;124m'\u001b[39m)\n\u001b[1;32m      9\u001b[0m converter \u001b[38;5;241m=\u001b[39m tf\u001b[38;5;241m.\u001b[39mlite\u001b[38;5;241m.\u001b[39mTFLiteConverter\u001b[38;5;241m.\u001b[39mfrom_keras_model(model)\n\u001b[1;32m     11\u001b[0m tflite_model \u001b[38;5;241m=\u001b[39m converter\u001b[38;5;241m.\u001b[39mconvert()\n",
      "File \u001b[0;32m/opt/saturncloud/envs/saturn/lib/python3.9/site-packages/keras/utils/traceback_utils.py:67\u001b[0m, in \u001b[0;36mfilter_traceback.<locals>.error_handler\u001b[0;34m(*args, **kwargs)\u001b[0m\n\u001b[1;32m     65\u001b[0m \u001b[38;5;28;01mexcept\u001b[39;00m \u001b[38;5;167;01mException\u001b[39;00m \u001b[38;5;28;01mas\u001b[39;00m e:  \u001b[38;5;66;03m# pylint: disable=broad-except\u001b[39;00m\n\u001b[1;32m     66\u001b[0m   filtered_tb \u001b[38;5;241m=\u001b[39m _process_traceback_frames(e\u001b[38;5;241m.\u001b[39m__traceback__)\n\u001b[0;32m---> 67\u001b[0m   \u001b[38;5;28;01mraise\u001b[39;00m e\u001b[38;5;241m.\u001b[39mwith_traceback(filtered_tb) \u001b[38;5;28;01mfrom\u001b[39;00m \u001b[38;5;28mNone\u001b[39m\n\u001b[1;32m     68\u001b[0m \u001b[38;5;28;01mfinally\u001b[39;00m:\n\u001b[1;32m     69\u001b[0m   \u001b[38;5;28;01mdel\u001b[39;00m filtered_tb\n",
      "File \u001b[0;32m/opt/saturncloud/envs/saturn/lib/python3.9/site-packages/h5py/_hl/files.py:533\u001b[0m, in \u001b[0;36mFile.__init__\u001b[0;34m(self, name, mode, driver, libver, userblock_size, swmr, rdcc_nslots, rdcc_nbytes, rdcc_w0, track_order, fs_strategy, fs_persist, fs_threshold, fs_page_size, page_buf_size, min_meta_keep, min_raw_keep, locking, alignment_threshold, alignment_interval, **kwds)\u001b[0m\n\u001b[1;32m    525\u001b[0m     fapl \u001b[38;5;241m=\u001b[39m make_fapl(driver, libver, rdcc_nslots, rdcc_nbytes, rdcc_w0,\n\u001b[1;32m    526\u001b[0m                      locking, page_buf_size, min_meta_keep, min_raw_keep,\n\u001b[1;32m    527\u001b[0m                      alignment_threshold\u001b[38;5;241m=\u001b[39malignment_threshold,\n\u001b[1;32m    528\u001b[0m                      alignment_interval\u001b[38;5;241m=\u001b[39malignment_interval,\n\u001b[1;32m    529\u001b[0m                      \u001b[38;5;241m*\u001b[39m\u001b[38;5;241m*\u001b[39mkwds)\n\u001b[1;32m    530\u001b[0m     fcpl \u001b[38;5;241m=\u001b[39m make_fcpl(track_order\u001b[38;5;241m=\u001b[39mtrack_order, fs_strategy\u001b[38;5;241m=\u001b[39mfs_strategy,\n\u001b[1;32m    531\u001b[0m                      fs_persist\u001b[38;5;241m=\u001b[39mfs_persist, fs_threshold\u001b[38;5;241m=\u001b[39mfs_threshold,\n\u001b[1;32m    532\u001b[0m                      fs_page_size\u001b[38;5;241m=\u001b[39mfs_page_size)\n\u001b[0;32m--> 533\u001b[0m     fid \u001b[38;5;241m=\u001b[39m make_fid(name, mode, userblock_size, fapl, fcpl, swmr\u001b[38;5;241m=\u001b[39mswmr)\n\u001b[1;32m    535\u001b[0m \u001b[38;5;28;01mif\u001b[39;00m \u001b[38;5;28misinstance\u001b[39m(libver, \u001b[38;5;28mtuple\u001b[39m):\n\u001b[1;32m    536\u001b[0m     \u001b[38;5;28mself\u001b[39m\u001b[38;5;241m.\u001b[39m_libver \u001b[38;5;241m=\u001b[39m libver\n",
      "File \u001b[0;32m/opt/saturncloud/envs/saturn/lib/python3.9/site-packages/h5py/_hl/files.py:226\u001b[0m, in \u001b[0;36mmake_fid\u001b[0;34m(name, mode, userblock_size, fapl, fcpl, swmr)\u001b[0m\n\u001b[1;32m    224\u001b[0m     \u001b[38;5;28;01mif\u001b[39;00m swmr \u001b[38;5;129;01mand\u001b[39;00m swmr_support:\n\u001b[1;32m    225\u001b[0m         flags \u001b[38;5;241m|\u001b[39m\u001b[38;5;241m=\u001b[39m h5f\u001b[38;5;241m.\u001b[39mACC_SWMR_READ\n\u001b[0;32m--> 226\u001b[0m     fid \u001b[38;5;241m=\u001b[39m \u001b[43mh5f\u001b[49m\u001b[38;5;241;43m.\u001b[39;49m\u001b[43mopen\u001b[49m\u001b[43m(\u001b[49m\u001b[43mname\u001b[49m\u001b[43m,\u001b[49m\u001b[43m \u001b[49m\u001b[43mflags\u001b[49m\u001b[43m,\u001b[49m\u001b[43m \u001b[49m\u001b[43mfapl\u001b[49m\u001b[38;5;241;43m=\u001b[39;49m\u001b[43mfapl\u001b[49m\u001b[43m)\u001b[49m\n\u001b[1;32m    227\u001b[0m \u001b[38;5;28;01melif\u001b[39;00m mode \u001b[38;5;241m==\u001b[39m \u001b[38;5;124m'\u001b[39m\u001b[38;5;124mr+\u001b[39m\u001b[38;5;124m'\u001b[39m:\n\u001b[1;32m    228\u001b[0m     fid \u001b[38;5;241m=\u001b[39m h5f\u001b[38;5;241m.\u001b[39mopen(name, h5f\u001b[38;5;241m.\u001b[39mACC_RDWR, fapl\u001b[38;5;241m=\u001b[39mfapl)\n",
      "File \u001b[0;32mh5py/_objects.pyx:54\u001b[0m, in \u001b[0;36mh5py._objects.with_phil.wrapper\u001b[0;34m()\u001b[0m\n",
      "File \u001b[0;32mh5py/_objects.pyx:55\u001b[0m, in \u001b[0;36mh5py._objects.with_phil.wrapper\u001b[0;34m()\u001b[0m\n",
      "File \u001b[0;32mh5py/h5f.pyx:106\u001b[0m, in \u001b[0;36mh5py.h5f.open\u001b[0;34m()\u001b[0m\n",
      "\u001b[0;31mOSError\u001b[0m: Unable to open file (file signature not found)"
     ]
    }
   ],
   "source": [
    "#convert the model\n",
    "import h5py\n",
    "#h5py.File('model_2024_hairstyle.keras', 'r')\n",
    "import tensorflow as tf\n",
    "from tensorflow import keras\n",
    "\n",
    "model = keras.models.load_model('model_2024_hairstyle.keras')\n",
    "\n",
    "converter = tf.lite.TFLiteConverter.from_keras_model(model)\n",
    "\n",
    "tflite_model = converter.convert()\n",
    "\n",
    "with open('hairstyle-model.tflite', 'wb') as f_out:\n",
    "    f_out.write(tflite_model)"
   ]
  },
  {
   "cell_type": "markdown",
   "id": "7f6db7bf-3514-4d44-b426-040c9be13084",
   "metadata": {
    "execution": {
     "iopub.execute_input": "2024-12-13T13:19:09.125312Z",
     "iopub.status.busy": "2024-12-13T13:19:09.124916Z",
     "iopub.status.idle": "2024-12-13T13:19:09.130856Z",
     "shell.execute_reply": "2024-12-13T13:19:09.129969Z",
     "shell.execute_reply.started": "2024-12-13T13:19:09.125282Z"
    }
   },
   "source": [
    "## Question 1\n",
    "Now convert this model from Keras to TF-Lite format.\n",
    "\n",
    "What's the size of the converted model?\n",
    "\n",
    "27 Mb  \n",
    "43 Mb  \n",
    "77 Mb  \n",
    "127 Mb  "
   ]
  },
  {
   "cell_type": "code",
   "execution_count": 3,
   "id": "8074e8d6-55a1-48a5-9018-153e1dcc6ff9",
   "metadata": {
    "execution": {
     "iopub.execute_input": "2024-12-16T13:44:23.296808Z",
     "iopub.status.busy": "2024-12-16T13:44:23.296428Z",
     "iopub.status.idle": "2024-12-16T13:44:25.491415Z",
     "shell.execute_reply": "2024-12-16T13:44:25.490664Z",
     "shell.execute_reply.started": "2024-12-16T13:44:23.296784Z"
    }
   },
   "outputs": [
    {
     "name": "stdout",
     "output_type": "stream",
     "text": [
      "Collecting keras-image-helper\n",
      "  Using cached keras_image_helper-0.0.1-py3-none-any.whl (4.6 kB)\n",
      "Requirement already satisfied: numpy in /opt/saturncloud/envs/saturn/lib/python3.9/site-packages (from keras-image-helper) (1.24.0)\n",
      "Requirement already satisfied: pillow in /opt/saturncloud/envs/saturn/lib/python3.9/site-packages (from keras-image-helper) (9.2.0)\n",
      "Installing collected packages: keras-image-helper\n",
      "Successfully installed keras-image-helper-0.0.1\n"
     ]
    }
   ],
   "source": [
    "!pip install keras-image-helper"
   ]
  },
  {
   "cell_type": "code",
   "execution_count": 4,
   "id": "ecdb6356-5308-4a35-a914-d50fbeeeb800",
   "metadata": {
    "execution": {
     "iopub.execute_input": "2024-12-16T13:44:35.488957Z",
     "iopub.status.busy": "2024-12-16T13:44:35.488552Z",
     "iopub.status.idle": "2024-12-16T13:44:37.822955Z",
     "shell.execute_reply": "2024-12-16T13:44:37.822190Z",
     "shell.execute_reply.started": "2024-12-16T13:44:35.488928Z"
    }
   },
   "outputs": [
    {
     "name": "stdout",
     "output_type": "stream",
     "text": [
      "Looking in indexes: https://pypi.org/simple, https://google-coral.github.io/py-repo/\n",
      "Collecting tflite_runtime\n",
      "  Using cached tflite_runtime-2.14.0-cp39-cp39-manylinux2014_x86_64.whl (2.4 MB)\n",
      "Requirement already satisfied: numpy>=1.23.2 in /opt/saturncloud/envs/saturn/lib/python3.9/site-packages (from tflite_runtime) (1.24.0)\n",
      "Installing collected packages: tflite_runtime\n",
      "Successfully installed tflite_runtime-2.14.0\n"
     ]
    }
   ],
   "source": [
    "!pip install --extra-index-url https://google-coral.github.io/py-repo/ tflite_runtime"
   ]
  },
  {
   "cell_type": "code",
   "execution_count": 59,
   "id": "0fd37146-98d0-48df-826e-2be626486b4e",
   "metadata": {
    "execution": {
     "iopub.execute_input": "2024-12-16T15:24:09.271317Z",
     "iopub.status.busy": "2024-12-16T15:24:09.270925Z",
     "iopub.status.idle": "2024-12-16T15:24:09.274856Z",
     "shell.execute_reply": "2024-12-16T15:24:09.274121Z",
     "shell.execute_reply.started": "2024-12-16T15:24:09.271291Z"
    },
    "tags": []
   },
   "outputs": [],
   "source": [
    "#import tensorflow.lite as tflite\n",
    "import tflite_runtime.interpreter as tflite\n",
    "from keras_image_helper import create_preprocessor"
   ]
  },
  {
   "cell_type": "code",
   "execution_count": 60,
   "id": "a63fca4d-d1c3-40d8-a18a-59d4177fa401",
   "metadata": {
    "execution": {
     "iopub.execute_input": "2024-12-16T15:24:09.501180Z",
     "iopub.status.busy": "2024-12-16T15:24:09.500761Z",
     "iopub.status.idle": "2024-12-16T15:24:09.578277Z",
     "shell.execute_reply": "2024-12-16T15:24:09.577474Z",
     "shell.execute_reply.started": "2024-12-16T15:24:09.501153Z"
    },
    "tags": []
   },
   "outputs": [],
   "source": [
    "interpreter = tflite.Interpreter(model_path='hairstyle-model.tflite')\n",
    "interpreter.allocate_tensors()\n",
    "\n",
    "input_index = interpreter.get_input_details()[0]['index']\n",
    "output_index = interpreter.get_output_details()[0]['index']"
   ]
  },
  {
   "cell_type": "markdown",
   "id": "2f87a450-4927-40b0-b693-eadf56abc1c1",
   "metadata": {
    "execution": {
     "iopub.execute_input": "2024-12-16T13:47:29.408964Z",
     "iopub.status.busy": "2024-12-16T13:47:29.408573Z",
     "iopub.status.idle": "2024-12-16T13:47:29.414550Z",
     "shell.execute_reply": "2024-12-16T13:47:29.413340Z",
     "shell.execute_reply.started": "2024-12-16T13:47:29.408938Z"
    }
   },
   "source": [
    "## Question 2\n",
    "To be able to use this model, we need to know the index of the input and the index of the output.  \n",
    "\n",
    "What's the output index for this model?  \n",
    "\n",
    "3  \n",
    "7  \n",
    "13  \n",
    "24  "
   ]
  },
  {
   "cell_type": "code",
   "execution_count": 61,
   "id": "f2b8b864-9ce4-44f9-9f1e-d7a286d1edcc",
   "metadata": {
    "execution": {
     "iopub.execute_input": "2024-12-16T15:24:15.595053Z",
     "iopub.status.busy": "2024-12-16T15:24:15.594635Z",
     "iopub.status.idle": "2024-12-16T15:24:15.599976Z",
     "shell.execute_reply": "2024-12-16T15:24:15.599118Z",
     "shell.execute_reply.started": "2024-12-16T15:24:15.595026Z"
    },
    "tags": []
   },
   "outputs": [
    {
     "data": {
      "text/plain": [
       "(0, 13)"
      ]
     },
     "execution_count": 61,
     "metadata": {},
     "output_type": "execute_result"
    }
   ],
   "source": [
    "input_index, output_index"
   ]
  },
  {
   "cell_type": "code",
   "execution_count": 62,
   "id": "bdddbbec-e170-4d50-9511-46e4b8158904",
   "metadata": {
    "execution": {
     "iopub.execute_input": "2024-12-16T15:24:16.663092Z",
     "iopub.status.busy": "2024-12-16T15:24:16.662713Z",
     "iopub.status.idle": "2024-12-16T15:24:16.668310Z",
     "shell.execute_reply": "2024-12-16T15:24:16.667501Z",
     "shell.execute_reply.started": "2024-12-16T15:24:16.663065Z"
    },
    "tags": []
   },
   "outputs": [],
   "source": [
    "from io import BytesIO\n",
    "from urllib import request\n",
    "\n",
    "from PIL import Image\n",
    "\n",
    "def download_image(url):\n",
    "    with request.urlopen(url) as resp:\n",
    "        buffer = resp.read()\n",
    "    stream = BytesIO(buffer)\n",
    "    img = Image.open(stream)\n",
    "    return img\n",
    "\n",
    "\n",
    "def prepare_image(img, target_size):\n",
    "    if img.mode != 'RGB':\n",
    "        img = img.convert('RGB')\n",
    "    img = img.resize(target_size, Image.NEAREST)\n",
    "    return img"
   ]
  },
  {
   "cell_type": "code",
   "execution_count": 63,
   "id": "3ef9cf6e-96a3-49a9-8828-5eea8ced6f33",
   "metadata": {
    "execution": {
     "iopub.execute_input": "2024-12-16T15:24:16.955054Z",
     "iopub.status.busy": "2024-12-16T15:24:16.954667Z",
     "iopub.status.idle": "2024-12-16T15:24:16.958611Z",
     "shell.execute_reply": "2024-12-16T15:24:16.957853Z",
     "shell.execute_reply.started": "2024-12-16T15:24:16.955031Z"
    },
    "tags": []
   },
   "outputs": [],
   "source": [
    "def preprocess_input(x):\n",
    "    x /= 127.5\n",
    "    x -= 1.\n",
    "    return x"
   ]
  },
  {
   "cell_type": "code",
   "execution_count": 64,
   "id": "9831d140-bc2c-4c4f-84f4-11108a37fdb6",
   "metadata": {
    "execution": {
     "iopub.execute_input": "2024-12-16T15:24:17.186988Z",
     "iopub.status.busy": "2024-12-16T15:24:17.186595Z",
     "iopub.status.idle": "2024-12-16T15:24:17.190497Z",
     "shell.execute_reply": "2024-12-16T15:24:17.189731Z",
     "shell.execute_reply.started": "2024-12-16T15:24:17.186963Z"
    },
    "tags": []
   },
   "outputs": [],
   "source": [
    "url='https://habrastorage.org/webt/yf/_d/ok/yf_dokzqy3vcritme8ggnzqlvwa.jpeg'"
   ]
  },
  {
   "cell_type": "code",
   "execution_count": 87,
   "id": "8fa653f0-91f9-4e87-8c32-8fe00ff978da",
   "metadata": {
    "execution": {
     "iopub.execute_input": "2024-12-16T15:58:44.215139Z",
     "iopub.status.busy": "2024-12-16T15:58:44.214762Z",
     "iopub.status.idle": "2024-12-16T15:58:45.216649Z",
     "shell.execute_reply": "2024-12-16T15:58:45.216000Z",
     "shell.execute_reply.started": "2024-12-16T15:58:44.215113Z"
    },
    "tags": []
   },
   "outputs": [],
   "source": [
    "img=download_image(url)"
   ]
  },
  {
   "cell_type": "code",
   "execution_count": 88,
   "id": "6b919662-1c5d-4e8e-980c-3d7fb352a214",
   "metadata": {
    "execution": {
     "iopub.execute_input": "2024-12-16T15:58:45.218552Z",
     "iopub.status.busy": "2024-12-16T15:58:45.218158Z",
     "iopub.status.idle": "2024-12-16T15:58:45.253076Z",
     "shell.execute_reply": "2024-12-16T15:58:45.252318Z",
     "shell.execute_reply.started": "2024-12-16T15:58:45.218519Z"
    },
    "tags": []
   },
   "outputs": [
    {
     "name": "stderr",
     "output_type": "stream",
     "text": [
      "/tmp/ipykernel_142/2487457277.py:17: DeprecationWarning: NEAREST is deprecated and will be removed in Pillow 10 (2023-07-01). Use Resampling.NEAREST or Dither.NONE instead.\n",
      "  img = img.resize(target_size, Image.NEAREST)\n"
     ]
    },
    {
     "data": {
      "image/png": "[encoded data removed]",
      "text/plain": [
       "<PIL.Image.Image image mode=RGB size=200x200>"
      ]
     },
     "execution_count": 88,
     "metadata": {},
     "output_type": "execute_result"
    }
   ],
   "source": [
    "img=prepare_image(img, target_size=(200,200))\n",
    "img"
   ]
  },
  {
   "cell_type": "code",
   "execution_count": 89,
   "id": "01e04e02-17d5-47c1-9242-ea57eba96ae1",
   "metadata": {
    "execution": {
     "iopub.execute_input": "2024-12-16T15:59:06.255072Z",
     "iopub.status.busy": "2024-12-16T15:59:06.254687Z",
     "iopub.status.idle": "2024-12-16T15:59:06.258799Z",
     "shell.execute_reply": "2024-12-16T15:59:06.257981Z",
     "shell.execute_reply.started": "2024-12-16T15:59:06.255045Z"
    },
    "tags": []
   },
   "outputs": [],
   "source": [
    "def preprocess_input(x):\n",
    "    \n",
    "    return x/255.0"
   ]
  },
  {
   "cell_type": "code",
   "execution_count": 90,
   "id": "97aae8cc-e92e-472e-bf30-d297462aade1",
   "metadata": {
    "execution": {
     "iopub.execute_input": "2024-12-16T15:59:06.505053Z",
     "iopub.status.busy": "2024-12-16T15:59:06.504662Z",
     "iopub.status.idle": "2024-12-16T15:59:06.509313Z",
     "shell.execute_reply": "2024-12-16T15:59:06.508488Z",
     "shell.execute_reply.started": "2024-12-16T15:59:06.505028Z"
    },
    "tags": []
   },
   "outputs": [],
   "source": [
    "x = np.array(img, dtype='float32')\n",
    "X = np.array([x])\n",
    "\n",
    "X = preprocess_input(X)\n"
   ]
  },
  {
   "cell_type": "code",
   "execution_count": 91,
   "id": "c40befed-fc81-437c-8f7c-81c2a4aded2e",
   "metadata": {
    "execution": {
     "iopub.execute_input": "2024-12-16T15:59:07.779004Z",
     "iopub.status.busy": "2024-12-16T15:59:07.778610Z",
     "iopub.status.idle": "2024-12-16T15:59:07.784103Z",
     "shell.execute_reply": "2024-12-16T15:59:07.783491Z",
     "shell.execute_reply.started": "2024-12-16T15:59:07.778978Z"
    },
    "tags": []
   },
   "outputs": [
    {
     "data": {
      "text/plain": [
       "array([[0.23921569, 0.24313726, 0.26666668, 0.27450982, 0.3647059 ]],\n",
       "      dtype=float32)"
      ]
     },
     "execution_count": 91,
     "metadata": {},
     "output_type": "execute_result"
    }
   ],
   "source": [
    "X[0:,0:5,0,0]"
   ]
  },
  {
   "cell_type": "code",
   "execution_count": 82,
   "id": "cc42b570-ecb4-422a-a8a8-f68b17927970",
   "metadata": {
    "execution": {
     "iopub.execute_input": "2024-12-16T15:58:07.449392Z",
     "iopub.status.busy": "2024-12-16T15:58:07.448996Z",
     "iopub.status.idle": "2024-12-16T15:58:07.453373Z",
     "shell.execute_reply": "2024-12-16T15:58:07.452621Z",
     "shell.execute_reply.started": "2024-12-16T15:58:07.449366Z"
    },
    "tags": []
   },
   "outputs": [],
   "source": [
    "preprocessor = create_preprocessor('xception', target_size=(200, 200))"
   ]
  },
  {
   "cell_type": "code",
   "execution_count": null,
   "id": "8e56ae2d-818c-44cf-b604-1704706c3616",
   "metadata": {},
   "outputs": [],
   "source": []
  },
  {
   "cell_type": "code",
   "execution_count": 83,
   "id": "a7a4b7db-f724-4188-8b89-b320091faf03",
   "metadata": {
    "execution": {
     "iopub.execute_input": "2024-12-16T15:58:09.725116Z",
     "iopub.status.busy": "2024-12-16T15:58:09.724693Z",
     "iopub.status.idle": "2024-12-16T15:58:09.730475Z",
     "shell.execute_reply": "2024-12-16T15:58:09.729734Z",
     "shell.execute_reply.started": "2024-12-16T15:58:09.725088Z"
    },
    "tags": []
   },
   "outputs": [
    {
     "data": {
      "text/plain": [
       "keras_image_helper.preprocessors.XceptionPreprocessor"
      ]
     },
     "execution_count": 83,
     "metadata": {},
     "output_type": "execute_result"
    }
   ],
   "source": [
    "type(preprocessor)"
   ]
  },
  {
   "cell_type": "code",
   "execution_count": 84,
   "id": "f2d11a83-2f76-4b98-b11d-56d692907c12",
   "metadata": {
    "execution": {
     "iopub.execute_input": "2024-12-16T15:58:18.383001Z",
     "iopub.status.busy": "2024-12-16T15:58:18.382612Z",
     "iopub.status.idle": "2024-12-16T15:58:19.640753Z",
     "shell.execute_reply": "2024-12-16T15:58:19.640076Z",
     "shell.execute_reply.started": "2024-12-16T15:58:18.382974Z"
    },
    "tags": []
   },
   "outputs": [],
   "source": [
    "\n",
    "X = preprocessor.from_url(url)"
   ]
  },
  {
   "cell_type": "code",
   "execution_count": 85,
   "id": "89ac0dff-5424-4290-9049-a8bf18bd1f61",
   "metadata": {
    "execution": {
     "iopub.execute_input": "2024-12-16T15:58:20.833227Z",
     "iopub.status.busy": "2024-12-16T15:58:20.832812Z",
     "iopub.status.idle": "2024-12-16T15:58:20.837834Z",
     "shell.execute_reply": "2024-12-16T15:58:20.837176Z",
     "shell.execute_reply.started": "2024-12-16T15:58:20.833204Z"
    },
    "tags": []
   },
   "outputs": [
    {
     "data": {
      "text/plain": [
       "numpy.ndarray"
      ]
     },
     "execution_count": 85,
     "metadata": {},
     "output_type": "execute_result"
    }
   ],
   "source": [
    "type(X)"
   ]
  },
  {
   "cell_type": "code",
   "execution_count": 86,
   "id": "d83b42d3-50d6-4ff6-a369-b7c22e64ae0d",
   "metadata": {
    "execution": {
     "iopub.execute_input": "2024-12-16T15:58:22.858994Z",
     "iopub.status.busy": "2024-12-16T15:58:22.858599Z",
     "iopub.status.idle": "2024-12-16T15:58:22.864280Z",
     "shell.execute_reply": "2024-12-16T15:58:22.863376Z",
     "shell.execute_reply.started": "2024-12-16T15:58:22.858968Z"
    },
    "tags": []
   },
   "outputs": [
    {
     "data": {
      "text/plain": [
       "array([[-0.52156866, -0.5137255 , -0.46666664, -0.45098037, -0.27058822]],\n",
       "      dtype=float32)"
      ]
     },
     "execution_count": 86,
     "metadata": {},
     "output_type": "execute_result"
    }
   ],
   "source": [
    "X[0:,0:5,0,0]"
   ]
  },
  {
   "cell_type": "markdown",
   "id": "7fd2e62d-0bfb-44c4-a9c0-f191b5fa4434",
   "metadata": {},
   "source": [
    "## Question 3  \n",
    "Now we need to turn the image into numpy array and pre-process it.  \n",
    "\n",
    "Tip: Check the previous homework. What was the pre-processing we did there?  \n",
    "\n",
    "After the pre-processing, what's the value in the first pixel, the R channel?  \n",
    "\n",
    "0.24  # answer\n",
    "0.44  \n",
    "0.64  \n",
    "0.84  "
   ]
  },
  {
   "cell_type": "code",
   "execution_count": 78,
   "id": "11f8197f-958e-4106-aded-b08da56deaaa",
   "metadata": {
    "execution": {
     "iopub.execute_input": "2024-12-16T15:48:37.124953Z",
     "iopub.status.busy": "2024-12-16T15:48:37.124551Z",
     "iopub.status.idle": "2024-12-16T15:48:37.139599Z",
     "shell.execute_reply": "2024-12-16T15:48:37.138793Z",
     "shell.execute_reply.started": "2024-12-16T15:48:37.124926Z"
    },
    "tags": []
   },
   "outputs": [
    {
     "data": {
      "text/plain": [
       "(1, 1)"
      ]
     },
     "execution_count": 78,
     "metadata": {},
     "output_type": "execute_result"
    }
   ],
   "source": [
    "interpreter.set_tensor(input_index, X)\n",
    "interpreter.invoke()\n",
    "preds = interpreter.get_tensor(output_index)\n",
    "preds.shape"
   ]
  },
  {
   "cell_type": "code",
   "execution_count": 79,
   "id": "3ad889ee-691d-4d2e-861d-3593986cd2ba",
   "metadata": {
    "execution": {
     "iopub.execute_input": "2024-12-16T15:48:39.245433Z",
     "iopub.status.busy": "2024-12-16T15:48:39.244973Z",
     "iopub.status.idle": "2024-12-16T15:48:39.251218Z",
     "shell.execute_reply": "2024-12-16T15:48:39.250376Z",
     "shell.execute_reply.started": "2024-12-16T15:48:39.245402Z"
    },
    "tags": []
   },
   "outputs": [
    {
     "data": {
      "text/plain": [
       "array([[0.8934675]], dtype=float32)"
      ]
     },
     "execution_count": 79,
     "metadata": {},
     "output_type": "execute_result"
    }
   ],
   "source": [
    "preds"
   ]
  },
  {
   "cell_type": "markdown",
   "id": "3206814f-16b2-4ad7-a9c5-eddf41148642",
   "metadata": {},
   "source": [
    "## Question 4  \n",
    "Now let's apply this model to this image. What's the output of the model?  \n",
    "\n",
    "0.293  \n",
    "0.493  \n",
    "0.693  \n",
    "0.893  "
   ]
  },
  {
   "cell_type": "code",
   "execution_count": 80,
   "id": "223fe1b5-c6d2-4d44-8735-3d126c536a88",
   "metadata": {
    "execution": {
     "iopub.execute_input": "2024-12-16T15:48:45.473142Z",
     "iopub.status.busy": "2024-12-16T15:48:45.472747Z",
     "iopub.status.idle": "2024-12-16T15:48:45.478483Z",
     "shell.execute_reply": "2024-12-16T15:48:45.477738Z",
     "shell.execute_reply.started": "2024-12-16T15:48:45.473117Z"
    },
    "tags": []
   },
   "outputs": [
    {
     "data": {
      "text/plain": [
       "{'straight': 0.8934675}"
      ]
     },
     "execution_count": 80,
     "metadata": {},
     "output_type": "execute_result"
    }
   ],
   "source": [
    "classes = [\n",
    "    'straight',\n",
    "    'curly'\n",
    "\n",
    "]\n",
    "\n",
    "dict(zip(classes, preds[0]))"
   ]
  },
  {
   "cell_type": "code",
   "execution_count": 92,
   "id": "3da8ca08-22a9-4143-b010-9b82fe57a408",
   "metadata": {
    "execution": {
     "iopub.execute_input": "2024-12-16T16:19:06.073147Z",
     "iopub.status.busy": "2024-12-16T16:19:06.072754Z",
     "iopub.status.idle": "2024-12-16T16:19:06.078592Z",
     "shell.execute_reply": "2024-12-16T16:19:06.077416Z",
     "shell.execute_reply.started": "2024-12-16T16:19:06.073122Z"
    }
   },
   "outputs": [
    {
     "ename": "SyntaxError",
     "evalue": "invalid syntax (2753851799.py, line 1)",
     "output_type": "error",
     "traceback": [
      "\u001b[0;36m  Cell \u001b[0;32mIn [92], line 1\u001b[0;36m\u001b[0m\n\u001b[0;31m    sudo apt-get update\u001b[0m\n\u001b[0m         ^\u001b[0m\n\u001b[0;31mSyntaxError\u001b[0m\u001b[0;31m:\u001b[0m invalid syntax\n"
     ]
    }
   ],
   "source": [
    "sudo apt-get update\n"
   ]
  },
  {
   "cell_type": "code",
   "execution_count": 93,
   "id": "61be9cfe-f5bd-448a-b371-7744de0b1fa8",
   "metadata": {
    "execution": {
     "iopub.execute_input": "2024-12-16T16:19:06.256912Z",
     "iopub.status.busy": "2024-12-16T16:19:06.256507Z",
     "iopub.status.idle": "2024-12-16T16:19:06.261793Z",
     "shell.execute_reply": "2024-12-16T16:19:06.260925Z",
     "shell.execute_reply.started": "2024-12-16T16:19:06.256888Z"
    }
   },
   "outputs": [
    {
     "ename": "SyntaxError",
     "evalue": "invalid syntax (469666520.py, line 1)",
     "output_type": "error",
     "traceback": [
      "\u001b[0;36m  Cell \u001b[0;32mIn [93], line 1\u001b[0;36m\u001b[0m\n\u001b[0;31m    sudo apt-get install -y docker.io\u001b[0m\n\u001b[0m         ^\u001b[0m\n\u001b[0;31mSyntaxError\u001b[0m\u001b[0;31m:\u001b[0m invalid syntax\n"
     ]
    }
   ],
   "source": [
    "sudo apt-get install -y docker.io\n"
   ]
  },
  {
   "cell_type": "code",
   "execution_count": 95,
   "id": "254c1cfd-955c-4517-a46b-96fafd9bfcb9",
   "metadata": {
    "execution": {
     "iopub.execute_input": "2024-12-16T16:19:14.600327Z",
     "iopub.status.busy": "2024-12-16T16:19:14.599870Z",
     "iopub.status.idle": "2024-12-16T16:19:15.234371Z",
     "shell.execute_reply": "2024-12-16T16:19:15.233558Z",
     "shell.execute_reply.started": "2024-12-16T16:19:14.600301Z"
    },
    "tags": []
   },
   "outputs": [
    {
     "name": "stdout",
     "output_type": "stream",
     "text": [
      "Docker version 24.0.7, build 24.0.7-0ubuntu2~20.04.1\n"
     ]
    }
   ],
   "source": [
    "!docker --version\n"
   ]
  },
  {
   "cell_type": "code",
   "execution_count": null,
   "id": "0ff5aacb-e5c7-413e-bf95-114639f3340a",
   "metadata": {},
   "outputs": [],
   "source": []
  }
 ],
 "metadata": {
  "kernelspec": {
   "display_name": "saturn (Python 3)",
   "language": "python",
   "name": "python3"
  },
  "language_info": {
   "codemirror_mode": {
    "name": "ipython",
    "version": 3
   },
   "file_extension": ".py",
   "mimetype": "text/x-python",
   "name": "python",
   "nbconvert_exporter": "python",
   "pygments_lexer": "ipython3",
   "version": "3.9.13"
  }
 },
 "nbformat": 4,
 "nbformat_minor": 5
}
