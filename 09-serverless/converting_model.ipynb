{
 "cells": [
  {
   "cell_type": "code",
   "execution_count": null,
   "id": "107ecd60-52da-4c32-aa7b-7fb0c8a45f1a",
   "metadata": {},
   "outputs": [],
   "source": [
    "!wget https://github.com/DataTalksClub/machine-learning-zoomcamp/releases/download/chapter7-model/xception_v4_large_08_0.894.h5 -O clothing-model.h5"
   ]
  },
  {
   "cell_type": "code",
   "execution_count": null,
   "id": "70b9b0cd-664f-4764-9439-20621ad70f61",
   "metadata": {
    "tags": []
   },
   "outputs": [],
   "source": [
    "!python -V"
   ]
  },
  {
   "cell_type": "code",
   "execution_count": 10,
   "id": "5e1669d8-211f-4daf-b5f1-08b0217d9a93",
   "metadata": {
    "execution": {
     "iopub.execute_input": "2024-12-10T23:22:07.628041Z",
     "iopub.status.busy": "2024-12-10T23:22:07.627602Z",
     "iopub.status.idle": "2024-12-10T23:22:13.106603Z",
     "shell.execute_reply": "2024-12-10T23:22:13.105303Z",
     "shell.execute_reply.started": "2024-12-10T23:22:07.628008Z"
    },
    "tags": []
   },
   "outputs": [
    {
     "name": "stdout",
     "output_type": "stream",
     "text": [
      "Collecting numpy==1.24\n",
      "  Downloading numpy-1.24.0-cp39-cp39-manylinux_2_17_x86_64.manylinux2014_x86_64.whl (17.3 MB)\n",
      "\u001b[2K     \u001b[90m━━━━━━━━━━━━━━━━━━━━━━━━━━━━━━━━━━━━━━━━\u001b[0m \u001b[32m17.3/17.3 MB\u001b[0m \u001b[31m81.4 MB/s\u001b[0m eta \u001b[36m0:00:00\u001b[0m00:01\u001b[0m00:01\u001b[0m\n",
      "\u001b[?25hInstalling collected packages: numpy\n",
      "  Attempting uninstall: numpy\n",
      "    Found existing installation: numpy 1.22.4\n",
      "    Uninstalling numpy-1.22.4:\n",
      "      Successfully uninstalled numpy-1.22.4\n",
      "\u001b[31mERROR: pip's dependency resolver does not currently take into account all the packages that are installed. This behaviour is the source of the following dependency conflicts.\n",
      "numba 0.55.2 requires numpy<1.23,>=1.18, but you have numpy 1.24.0 which is incompatible.\u001b[0m\u001b[31m\n",
      "\u001b[0mSuccessfully installed numpy-1.24.0\n",
      "Note: you may need to restart the kernel to use updated packages.\n"
     ]
    }
   ],
   "source": [
    "pip install numpy==1.24\n"
   ]
  },
  {
   "cell_type": "code",
   "execution_count": null,
   "id": "512592e8-d755-474d-a492-cf0b1f159e9e",
   "metadata": {
    "tags": []
   },
   "outputs": [],
   "source": [
    "import numpy as np\n",
    "\n",
    "import tensorflow as tf\n",
    "from tensorflow import keras\n",
    "\n",
    "tf.__version__"
   ]
  },
  {
   "cell_type": "code",
   "execution_count": null,
   "id": "72f36dfe-7b77-455e-be81-8cb65cc3b674",
   "metadata": {},
   "outputs": [],
   "source": [
    "!wget http://bit.ly/mlbookcamp-pants -O pants.jpg"
   ]
  },
  {
   "cell_type": "code",
   "execution_count": null,
   "id": "c6a7dcb4-0e84-47ec-a4e9-eb4675ae77bd",
   "metadata": {},
   "outputs": [],
   "source": [
    "from tensorflow.keras.preprocessing.image import load_img\n",
    "from tensorflow.keras.applications.xception import preprocess_input"
   ]
  },
  {
   "cell_type": "code",
   "execution_count": null,
   "id": "df017699-8772-47b4-afb0-ef50be3cd247",
   "metadata": {},
   "outputs": [],
   "source": [
    "model = keras.models.load_model('clothing-model.h5')"
   ]
  },
  {
   "cell_type": "code",
   "execution_count": null,
   "id": "e01f7140-fb44-4c93-8912-cb53d1b82f57",
   "metadata": {},
   "outputs": [],
   "source": [
    "img = load_img('pants.jpg', target_size=(299, 299))\n",
    "\n",
    "x = np.array(img)\n",
    "X = np.array([x])\n",
    "\n",
    "X = preprocess_input(X)"
   ]
  },
  {
   "cell_type": "code",
   "execution_count": null,
   "id": "0de39961-edc4-4bd2-b1d4-2d3971a75248",
   "metadata": {},
   "outputs": [],
   "source": [
    "preds = model.predict(X)"
   ]
  },
  {
   "cell_type": "code",
   "execution_count": null,
   "id": "bace8d4a-d221-4cfd-8f88-c26b0a2515a6",
   "metadata": {},
   "outputs": [],
   "source": [
    "preds"
   ]
  },
  {
   "cell_type": "code",
   "execution_count": null,
   "id": "3d5e407a-be73-4c77-b35a-3804adadfa99",
   "metadata": {},
   "outputs": [],
   "source": [
    "classes = [\n",
    "    'dress',\n",
    "    'hat',\n",
    "    'longsleeve',\n",
    "    'outwear',\n",
    "    'pants',\n",
    "    'shirt',\n",
    "    'shoes',\n",
    "    'shorts',\n",
    "    'skirt',\n",
    "    't-shirt'\n",
    "]"
   ]
  },
  {
   "cell_type": "code",
   "execution_count": null,
   "id": "66dc1c88-c6ec-4f3b-b624-a86998b55369",
   "metadata": {},
   "outputs": [],
   "source": [
    "dict(zip(classes, preds[0]))"
   ]
  },
  {
   "cell_type": "code",
   "execution_count": null,
   "id": "be301b55-5687-4afd-a6fd-66e088185905",
   "metadata": {},
   "outputs": [],
   "source": [
    "converter = tf.lite.TFLiteConverter.from_keras_model(model)\n",
    "\n",
    "tflite_model = converter.convert()\n",
    "\n",
    "with open('clothing-model.tflite', 'wb') as f_out:\n",
    "    f_out.write(tflite_model)"
   ]
  },
  {
   "cell_type": "code",
   "execution_count": null,
   "id": "0fa6b5b6-11a0-410b-8e4d-c9d120f6dc5d",
   "metadata": {},
   "outputs": [],
   "source": [
    "!ls -lh"
   ]
  },
  {
   "cell_type": "code",
   "execution_count": null,
   "id": "ac64c4f6-f47a-49f9-9c39-7570b52a2c72",
   "metadata": {},
   "outputs": [],
   "source": [
    "import tensorflow.lite as tflite"
   ]
  },
  {
   "cell_type": "code",
   "execution_count": null,
   "id": "9d22ea8e-882e-489e-bd23-b3f7084ba62f",
   "metadata": {},
   "outputs": [],
   "source": [
    "interpreter = tflite.Interpreter(model_path='clothing-model.tflite')\n",
    "interpreter.allocate_tensors()\n",
    "\n",
    "input_index = interpreter.get_input_details()[0]['index']\n",
    "output_index = interpreter.get_output_details()[0]['index']"
   ]
  },
  {
   "cell_type": "code",
   "execution_count": null,
   "id": "ce03b7e9-8c59-40da-9437-5ddc25b3d38a",
   "metadata": {
    "tags": []
   },
   "outputs": [],
   "source": [
    "interpreter.get_input_details()"
   ]
  },
  {
   "cell_type": "code",
   "execution_count": null,
   "id": "42bd785f-8856-4427-835f-f2be54bb2c12",
   "metadata": {},
   "outputs": [],
   "source": [
    "interpreter.get_output_details()"
   ]
  },
  {
   "cell_type": "code",
   "execution_count": null,
   "id": "91cce6f9-9334-4389-80c8-7654fe258ba9",
   "metadata": {
    "tags": []
   },
   "outputs": [],
   "source": [
    "interpreter.set_tensor(input_index, X)\n",
    "interpreter.invoke()\n",
    "preds = interpreter.get_tensor(output_index)"
   ]
  },
  {
   "cell_type": "code",
   "execution_count": null,
   "id": "6d1ad6fe-9246-4fad-a51d-075b524f5c6e",
   "metadata": {
    "tags": []
   },
   "outputs": [],
   "source": [
    "classes = [\n",
    "    'dress',\n",
    "    'hat',\n",
    "    'longsleeve',\n",
    "    'outwear',\n",
    "    'pants',\n",
    "    'shirt',\n",
    "    'shoes',\n",
    "    'shorts',\n",
    "    'skirt',\n",
    "    't-shirt'\n",
    "]\n",
    "\n",
    "dict(zip(classes, preds[0]))\n"
   ]
  },
  {
   "cell_type": "markdown",
   "id": "41d043e5-a54c-4acf-868e-f1512c0e59f8",
   "metadata": {
    "execution": {
     "iopub.execute_input": "2024-12-10T19:13:36.997069Z",
     "iopub.status.busy": "2024-12-10T19:13:36.996688Z",
     "iopub.status.idle": "2024-12-10T19:13:37.000339Z",
     "shell.execute_reply": "2024-12-10T19:13:36.999545Z",
     "shell.execute_reply.started": "2024-12-10T19:13:36.997046Z"
    }
   },
   "source": [
    "## Removing tensorflow dependency"
   ]
  },
  {
   "cell_type": "code",
   "execution_count": null,
   "id": "5255f758-c5a0-417a-83a6-7dabe9078f5f",
   "metadata": {
    "tags": []
   },
   "outputs": [],
   "source": [
    "from PIL import Image"
   ]
  },
  {
   "cell_type": "code",
   "execution_count": null,
   "id": "5fe687d8-28df-4c7e-9dfb-00fffad6d0a1",
   "metadata": {
    "tags": []
   },
   "outputs": [],
   "source": [
    "with Image.open('pants.jpg') as img:\n",
    "    img = img.resize((299, 299), Image.NEAREST)"
   ]
  },
  {
   "cell_type": "code",
   "execution_count": null,
   "id": "4977a031-5185-4cbc-9306-7078bc56dd8f",
   "metadata": {},
   "outputs": [],
   "source": [
    "img"
   ]
  },
  {
   "cell_type": "code",
   "execution_count": null,
   "id": "4252d6b8-31bc-4fb1-a9eb-96d8568c3e8b",
   "metadata": {
    "tags": []
   },
   "outputs": [],
   "source": [
    "def preprocess_input(x):\n",
    "    x /= 127.5\n",
    "    x -= 1.\n",
    "    return x"
   ]
  },
  {
   "cell_type": "code",
   "execution_count": null,
   "id": "b109f450-18ff-46b1-9d7d-3113a9e9a9be",
   "metadata": {
    "tags": []
   },
   "outputs": [],
   "source": [
    "x = np.array(img, dtype='float32')\n",
    "X = np.array([x])\n",
    "\n",
    "X = preprocess_input(X)"
   ]
  },
  {
   "cell_type": "code",
   "execution_count": null,
   "id": "6d35a709-691f-44de-bea3-bb5a5ef2a36b",
   "metadata": {
    "tags": []
   },
   "outputs": [],
   "source": [
    "interpreter.set_tensor(input_index, X)\n",
    "interpreter.invoke()\n",
    "preds = interpreter.get_tensor(output_index)"
   ]
  },
  {
   "cell_type": "code",
   "execution_count": null,
   "id": "46a92ebf-b3ee-4dbf-869f-6ea26e17f65c",
   "metadata": {
    "tags": []
   },
   "outputs": [],
   "source": [
    "classes = [\n",
    "    'dress',\n",
    "    'hat',\n",
    "    'longsleeve',\n",
    "    'outwear',\n",
    "    'pants',\n",
    "    'shirt',\n",
    "    'shoes',\n",
    "    'shorts',\n",
    "    'skirt',\n",
    "    't-shirt'\n",
    "]\n",
    "\n",
    "dict(zip(classes, preds[0]))"
   ]
  },
  {
   "cell_type": "markdown",
   "id": "b38b80e2-4447-4974-842c-44a195d1b587",
   "metadata": {},
   "source": [
    "# Simpler way of doing\n",
    "# from Alex Gregorev github we install keras-image-helper"
   ]
  },
  {
   "cell_type": "code",
   "execution_count": null,
   "id": "df48a18b-03b5-4334-a00e-eae3b99b7ab4",
   "metadata": {
    "tags": []
   },
   "outputs": [],
   "source": [
    "!pip install keras-image-helper"
   ]
  },
  {
   "cell_type": "code",
   "execution_count": null,
   "id": "d8ecb13e-27e8-470a-a1c5-efd16d9df5cb",
   "metadata": {
    "tags": []
   },
   "outputs": [],
   "source": [
    "!pip install --extra-index-url https://google-coral.github.io/py-repo/ tflite_runtime"
   ]
  },
  {
   "cell_type": "code",
   "execution_count": 2,
   "id": "8b0a35f3-eabd-4710-a775-60b30929e80e",
   "metadata": {
    "execution": {
     "iopub.execute_input": "2024-12-10T23:22:53.209573Z",
     "iopub.status.busy": "2024-12-10T23:22:53.209166Z",
     "iopub.status.idle": "2024-12-10T23:22:53.331882Z",
     "shell.execute_reply": "2024-12-10T23:22:53.331185Z",
     "shell.execute_reply.started": "2024-12-10T23:22:53.209547Z"
    },
    "tags": []
   },
   "outputs": [],
   "source": [
    "#import tensorflow.lite as tflite\n",
    "import tflite_runtime.interpreter as tflite\n",
    "from keras_image_helper import create_preprocessor"
   ]
  },
  {
   "cell_type": "code",
   "execution_count": 3,
   "id": "be1590e5-e4c6-4d05-8e37-fae2838d4d28",
   "metadata": {
    "execution": {
     "iopub.execute_input": "2024-12-10T23:22:53.415649Z",
     "iopub.status.busy": "2024-12-10T23:22:53.415198Z",
     "iopub.status.idle": "2024-12-10T23:22:53.535649Z",
     "shell.execute_reply": "2024-12-10T23:22:53.534679Z",
     "shell.execute_reply.started": "2024-12-10T23:22:53.415623Z"
    },
    "tags": []
   },
   "outputs": [
    {
     "name": "stderr",
     "output_type": "stream",
     "text": [
      "INFO: Created TensorFlow Lite XNNPACK delegate for CPU.\n"
     ]
    }
   ],
   "source": [
    "interpreter = tflite.Interpreter(model_path='clothing-model.tflite')\n",
    "interpreter.allocate_tensors()\n",
    "\n",
    "input_index = interpreter.get_input_details()[0]['index']\n",
    "output_index = interpreter.get_output_details()[0]['index']"
   ]
  },
  {
   "cell_type": "code",
   "execution_count": 4,
   "id": "ad6a88eb-857a-4824-bbb4-3f5dc08f157f",
   "metadata": {
    "execution": {
     "iopub.execute_input": "2024-12-10T23:22:58.399648Z",
     "iopub.status.busy": "2024-12-10T23:22:58.399245Z",
     "iopub.status.idle": "2024-12-10T23:22:58.404023Z",
     "shell.execute_reply": "2024-12-10T23:22:58.402950Z",
     "shell.execute_reply.started": "2024-12-10T23:22:58.399622Z"
    },
    "tags": []
   },
   "outputs": [],
   "source": [
    "preprocessor = create_preprocessor('xception', target_size=(299, 299))"
   ]
  },
  {
   "cell_type": "code",
   "execution_count": 5,
   "id": "0c277e0e-baaf-42dc-adfa-efbc34a3de4f",
   "metadata": {
    "execution": {
     "iopub.execute_input": "2024-12-10T23:22:59.533548Z",
     "iopub.status.busy": "2024-12-10T23:22:59.533154Z",
     "iopub.status.idle": "2024-12-10T23:22:59.632444Z",
     "shell.execute_reply": "2024-12-10T23:22:59.631742Z",
     "shell.execute_reply.started": "2024-12-10T23:22:59.533525Z"
    },
    "tags": []
   },
   "outputs": [],
   "source": [
    "url = 'http://bit.ly/mlbookcamp-pants'\n",
    "X = preprocessor.from_url(url)"
   ]
  },
  {
   "cell_type": "code",
   "execution_count": 6,
   "id": "51b31c2b-9882-4458-b01b-e6034e0bfbeb",
   "metadata": {
    "execution": {
     "iopub.execute_input": "2024-12-10T23:23:02.335549Z",
     "iopub.status.busy": "2024-12-10T23:23:02.335142Z",
     "iopub.status.idle": "2024-12-10T23:23:02.629281Z",
     "shell.execute_reply": "2024-12-10T23:23:02.628546Z",
     "shell.execute_reply.started": "2024-12-10T23:23:02.335524Z"
    }
   },
   "outputs": [],
   "source": [
    "interpreter.set_tensor(input_index, X)\n",
    "interpreter.invoke()\n",
    "preds = interpreter.get_tensor(output_index)"
   ]
  },
  {
   "cell_type": "code",
   "execution_count": 7,
   "id": "ae467d79-4465-4e90-9d5e-5e59496dfd17",
   "metadata": {
    "execution": {
     "iopub.execute_input": "2024-12-10T23:23:03.381747Z",
     "iopub.status.busy": "2024-12-10T23:23:03.381303Z",
     "iopub.status.idle": "2024-12-10T23:23:03.393258Z",
     "shell.execute_reply": "2024-12-10T23:23:03.392172Z",
     "shell.execute_reply.started": "2024-12-10T23:23:03.381716Z"
    }
   },
   "outputs": [
    {
     "data": {
      "text/plain": [
       "{'dress': -1.8682916,\n",
       " 'hat': -4.7612457,\n",
       " 'longsleeve': -2.316979,\n",
       " 'outwear': -1.0625672,\n",
       " 'pants': 9.8871565,\n",
       " 'shirt': -2.8124275,\n",
       " 'shoes': -3.666287,\n",
       " 'shorts': 3.2003636,\n",
       " 'skirt': -2.6023414,\n",
       " 't-shirt': -4.8350444}"
      ]
     },
     "execution_count": 7,
     "metadata": {},
     "output_type": "execute_result"
    }
   ],
   "source": [
    "classes = [\n",
    "    'dress',\n",
    "    'hat',\n",
    "    'longsleeve',\n",
    "    'outwear',\n",
    "    'pants',\n",
    "    'shirt',\n",
    "    'shoes',\n",
    "    'shorts',\n",
    "    'skirt',\n",
    "    't-shirt'\n",
    "]\n",
    "\n",
    "dict(zip(classes, preds[0]))\n"
   ]
  },
  {
   "cell_type": "code",
   "execution_count": 8,
   "id": "a68e1bc5-32f7-4c9c-a46f-36eed70daf70",
   "metadata": {
    "execution": {
     "iopub.execute_input": "2024-12-10T23:23:06.551655Z",
     "iopub.status.busy": "2024-12-10T23:23:06.551254Z",
     "iopub.status.idle": "2024-12-10T23:23:06.555713Z",
     "shell.execute_reply": "2024-12-10T23:23:06.554758Z",
     "shell.execute_reply.started": "2024-12-10T23:23:06.551629Z"
    },
    "tags": []
   },
   "outputs": [],
   "source": [
    "# converting to python file"
   ]
  },
  {
   "cell_type": "code",
   "execution_count": 9,
   "id": "e08c6c1d-21ed-453c-acbb-329e41c8f1ae",
   "metadata": {
    "execution": {
     "iopub.execute_input": "2024-12-10T23:23:07.567814Z",
     "iopub.status.busy": "2024-12-10T23:23:07.567413Z",
     "iopub.status.idle": "2024-12-10T23:23:09.762433Z",
     "shell.execute_reply": "2024-12-10T23:23:09.761517Z",
     "shell.execute_reply.started": "2024-12-10T23:23:07.567789Z"
    },
    "tags": []
   },
   "outputs": [
    {
     "name": "stdout",
     "output_type": "stream",
     "text": [
      "[NbConvertApp] Converting notebook converting_model.ipynb to script\n",
      "[NbConvertApp] Writing 3948 bytes to converting_model.py\n"
     ]
    }
   ],
   "source": [
    "!jupyter nbconvert --to script converting_model.ipynb"
   ]
  },
  {
   "cell_type": "code",
   "execution_count": null,
   "id": "41fe52f6-e6dd-4cf7-a545-36d8b0a4f118",
   "metadata": {},
   "outputs": [],
   "source": []
  }
 ],
 "metadata": {
  "kernelspec": {
   "display_name": "saturn (Python 3)",
   "language": "python",
   "name": "python3"
  },
  "language_info": {
   "codemirror_mode": {
    "name": "ipython",
    "version": 3
   },
   "file_extension": ".py",
   "mimetype": "text/x-python",
   "name": "python",
   "nbconvert_exporter": "python",
   "pygments_lexer": "ipython3",
   "version": "3.9.13"
  }
 },
 "nbformat": 4,
 "nbformat_minor": 5
}
