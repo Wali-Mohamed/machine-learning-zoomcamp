{
 "cells": [
  {
   "cell_type": "code",
   "execution_count": 2,
   "id": "afbd78a8-2317-40b9-89b4-6613a9a03efd",
   "metadata": {
    "execution": {
     "iopub.execute_input": "2024-12-13T00:03:05.329013Z",
     "iopub.status.busy": "2024-12-13T00:03:05.328639Z",
     "iopub.status.idle": "2024-12-13T00:03:05.552933Z",
     "shell.execute_reply": "2024-12-13T00:03:05.552144Z",
     "shell.execute_reply.started": "2024-12-13T00:03:05.328989Z"
    },
    "tags": []
   },
   "outputs": [
    {
     "name": "stderr",
     "output_type": "stream",
     "text": [
      "INFO: Created TensorFlow Lite XNNPACK delegate for CPU.\n"
     ]
    }
   ],
   "source": [
    "import lambda_function"
   ]
  },
  {
   "cell_type": "code",
   "execution_count": 3,
   "id": "6b1b46f9-57fb-4808-ae72-716358384f14",
   "metadata": {
    "execution": {
     "iopub.execute_input": "2024-12-13T00:03:58.078952Z",
     "iopub.status.busy": "2024-12-13T00:03:58.078557Z",
     "iopub.status.idle": "2024-12-13T00:03:58.472219Z",
     "shell.execute_reply": "2024-12-13T00:03:58.471363Z",
     "shell.execute_reply.started": "2024-12-13T00:03:58.078926Z"
    }
   },
   "outputs": [
    {
     "data": {
      "text/plain": [
       "{'dress': -1.8682916164398193,\n",
       " 'hat': -4.7612457275390625,\n",
       " 'longsleeve': -2.316978931427002,\n",
       " 'outwear': -1.0625672340393066,\n",
       " 'pants': 9.88715648651123,\n",
       " 'shirt': -2.812427520751953,\n",
       " 'shoes': -3.6662869453430176,\n",
       " 'shorts': 3.2003636360168457,\n",
       " 'skirt': -2.602341413497925,\n",
       " 't-shirt': -4.8350443840026855}"
      ]
     },
     "execution_count": 3,
     "metadata": {},
     "output_type": "execute_result"
    }
   ],
   "source": [
    "lambda_function.predict('http://bit.ly/mlbookcamp-pants')"
   ]
  },
  {
   "cell_type": "code",
   "execution_count": null,
   "id": "139f2605-8e59-4ae3-bd6e-92adebbd8df6",
   "metadata": {},
   "outputs": [],
   "source": []
  }
 ],
 "metadata": {
  "kernelspec": {
   "display_name": "saturn (Python 3)",
   "language": "python",
   "name": "python3"
  },
  "language_info": {
   "codemirror_mode": {
    "name": "ipython",
    "version": 3
   },
   "file_extension": ".py",
   "mimetype": "text/x-python",
   "name": "python",
   "nbconvert_exporter": "python",
   "pygments_lexer": "ipython3",
   "version": "3.9.13"
  }
 },
 "nbformat": 4,
 "nbformat_minor": 5
}
