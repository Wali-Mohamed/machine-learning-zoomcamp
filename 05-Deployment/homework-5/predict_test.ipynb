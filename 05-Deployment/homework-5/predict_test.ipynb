{
 "cells": [
  {
   "cell_type": "markdown",
   "id": "e7d42989-3e48-4ae9-b00f-25a97680ab65",
   "metadata": {},
   "source": [
    "%autosave 60: Sets autosave to every 60 seconds.   \n",
    "%autosave 0: Disables autosave."
   ]
  },
  {
   "cell_type": "code",
   "execution_count": 21,
   "id": "66f75cbb-b7f8-4085-909c-5df1d2254ec8",
   "metadata": {},
   "outputs": [
    {
     "data": {
      "application/javascript": [
       "IPython.notebook.set_autosave_interval(0)"
      ]
     },
     "metadata": {},
     "output_type": "display_data"
    },
    {
     "name": "stdout",
     "output_type": "stream",
     "text": [
      "Autosave disabled\n"
     ]
    }
   ],
   "source": [
    "%autosave 0"
   ]
  },
  {
   "cell_type": "code",
   "execution_count": 72,
   "id": "6b5b87c3-4b42-45a8-9920-154f70cf8d76",
   "metadata": {},
   "outputs": [
    {
     "data": {
      "text/plain": [
       "'1.5.1'"
      ]
     },
     "execution_count": 72,
     "metadata": {},
     "output_type": "execute_result"
    }
   ],
   "source": [
    "import pickle\n",
    "import numpy as np\n",
    "import sklearn\n",
    "sklearn.__version__"
   ]
  },
  {
   "cell_type": "code",
   "execution_count": 73,
   "id": "1d83ece8-2d36-47ad-b9bb-1f2dd864f27b",
   "metadata": {},
   "outputs": [],
   "source": [
    "# features = ['job', 'duration', 'poutcome']\n",
    "# dicts = df[features].to_dict(orient='records')\n",
    "\n",
    "# dv = DictVectorizer(sparse=False)\n",
    "# X = dv.fit_transform(dicts)\n",
    "\n",
    "# model = LogisticRegression().fit(X, y)"
   ]
  },
  {
   "cell_type": "markdown",
   "id": "7af8d55e-4ff3-4898-b03d-96952d64c85d",
   "metadata": {},
   "source": [
    "### Question 3  \n",
    "\n",
    "Let's use these models!  \n",
    "\n",
    "  Write a script for loading these models with pickle\n",
    "  Score this client:  \n",
    "  {\"job\": \"management\", \"duration\": 400, \"poutcome\": \"success\"}\n"
   ]
  },
  {
   "cell_type": "code",
   "execution_count": 74,
   "id": "22b41cde-b3dc-4222-8d4c-4bd4ce8e94fc",
   "metadata": {},
   "outputs": [
    {
     "name": "stderr",
     "output_type": "stream",
     "text": [
      "C:\\Users\\user\\miniconda3\\Lib\\site-packages\\sklearn\\base.py:376: InconsistentVersionWarning: Trying to unpickle estimator DictVectorizer from version 1.5.2 when using version 1.5.1. This might lead to breaking code or invalid results. Use at your own risk. For more info please refer to:\n",
      "https://scikit-learn.org/stable/model_persistence.html#security-maintainability-limitations\n",
      "  warnings.warn(\n",
      "C:\\Users\\user\\miniconda3\\Lib\\site-packages\\sklearn\\base.py:376: InconsistentVersionWarning: Trying to unpickle estimator LogisticRegression from version 1.5.2 when using version 1.5.1. This might lead to breaking code or invalid results. Use at your own risk. For more info please refer to:\n",
      "https://scikit-learn.org/stable/model_persistence.html#security-maintainability-limitations\n",
      "  warnings.warn(\n"
     ]
    }
   ],
   "source": [
    "client1={\"job\": \"management\", \"duration\": 400, \"poutcome\": \"success\"}\n",
    "\n",
    "with open('dv.bin', 'rb') as f_in: # very important to use 'rb' here, it means read-binary \n",
    "    dv = pickle.load(f_in)\n",
    "with open('model1.bin', 'rb') as f_in: # very important to use 'rb' here, it means read-binary \n",
    "    model = pickle.load(f_in)"
   ]
  },
  {
   "cell_type": "markdown",
   "id": "3f319fd4-3689-490f-b23f-48a7079d2830",
   "metadata": {},
   "source": [
    "What's the probability that this client will get a subscription?"
   ]
  },
  {
   "cell_type": "code",
   "execution_count": 75,
   "id": "a19ecda7-78e3-44bc-9885-6f5877e22a2b",
   "metadata": {},
   "outputs": [
    {
     "data": {
      "text/plain": [
       "0.7590966516879658"
      ]
     },
     "execution_count": 75,
     "metadata": {},
     "output_type": "execute_result"
    }
   ],
   "source": [
    "x=dv.transform(client1)\n",
    "y_pred=model.predict_proba(x)[0,1]\n",
    "y_pred"
   ]
  },
  {
   "cell_type": "markdown",
   "id": "a828ea55-cd02-4e53-8e41-6899b0f28c78",
   "metadata": {},
   "source": [
    "### Question 4\n",
    "Now let's serve this model as a web service  \n",
    "\n",
    "Install Flask and gunicorn (or waitress, if you're on Windows)  \n",
    "Write Flask code for serving the model  \n",
    "Now score this client using requests:"
   ]
  },
  {
   "cell_type": "code",
   "execution_count": 76,
   "id": "35824929-29b2-4e71-8637-068d0c26003d",
   "metadata": {},
   "outputs": [],
   "source": [
    "import requests"
   ]
  },
  {
   "cell_type": "code",
   "execution_count": 77,
   "id": "99ddf1d2-de22-4cc8-8e6f-b871e8114d3e",
   "metadata": {},
   "outputs": [],
   "source": [
    "url='http://localhost:9696/pred'\n",
    "url_docker='http://localhost:5000/pred'"
   ]
  },
  {
   "cell_type": "code",
   "execution_count": 78,
   "id": "e552e898-96ce-4c9c-aff6-57fa48544c57",
   "metadata": {},
   "outputs": [],
   "source": [
    "client1={\n",
    "    \"job\": \"management\", \n",
    "    \"duration\": 400, \n",
    "    \"poutcome\": \"success\"\n",
    "}"
   ]
  },
  {
   "cell_type": "code",
   "execution_count": 79,
   "id": "1445ed17-6d0c-48f9-9d0a-8c890e674016",
   "metadata": {},
   "outputs": [],
   "source": [
    "client2 = {\n",
    "    \"job\": \"student\",\n",
    "    \"duration\": 280, \n",
    "    \"poutcome\": \"failure\"}"
   ]
  },
  {
   "cell_type": "code",
   "execution_count": 80,
   "id": "79edf70c-28ec-4d3e-a7e8-6cc23c3ea9f7",
   "metadata": {},
   "outputs": [
    {
     "name": "stdout",
     "output_type": "stream",
     "text": [
      "{'churn': False, 'churn_probability': 0.33480703475511053}\n"
     ]
    }
   ],
   "source": [
    "# question 4\n",
    "response=requests.post(url, json=client2).json()\n",
    "print(response)\n",
    "    "
   ]
  },
  {
   "cell_type": "markdown",
   "id": "cd0cb49b-e963-43a2-8bfa-6fc01e38bb1a",
   "metadata": {},
   "source": [
    "### Question 5\n",
    "Download the base image svizor/zoomcamp-model:3.11.5-slim. You can easily make it by using docker pull command.  \n",
    "\n",
    "So what's the size of this base image?\n",
    "\n",
    "- 45 MB\n",
    "- 130 MB\n",
    "- 245 MB\n",
    "- 330 MB  \n",
    "You can get this information when running docker images - it'll be in the \"SIZE\" column."
   ]
  },
  {
   "cell_type": "code",
   "execution_count": 81,
   "id": "904882b3-3889-4526-a2d2-02749b95f2a5",
   "metadata": {},
   "outputs": [
    {
     "name": "stdout",
     "output_type": "stream",
     "text": [
      "REPOSITORY              TAG           IMAGE ID       CREATED       SIZE\n",
      "svizor/zoomcamp-model   3.11.5-slim   975e7bdca086   12 days ago   130MB\n"
     ]
    }
   ],
   "source": [
    "! docker images svizor/zoomcamp-model:3.11.5-slim\n"
   ]
  },
  {
   "cell_type": "markdown",
   "id": "deee6e59-209d-485e-8729-b779b17f2ceb",
   "metadata": {},
   "source": [
    "###  Question 6\n",
    "Let's run your docker container!  \n",
    "\n",
    "After running it, score this client once again:\n",
    "\n"
   ]
  },
  {
   "cell_type": "code",
   "execution_count": 82,
   "id": "14742bf0-4fa7-4569-a85a-3dd6ec6c92f4",
   "metadata": {},
   "outputs": [
    {
     "data": {
      "text/plain": [
       "{'churn': False, 'churn_probability': 0.2573245215378616}"
      ]
     },
     "execution_count": 82,
     "metadata": {},
     "output_type": "execute_result"
    }
   ],
   "source": [
    "url='http://localhost:5000/pred'\n",
    "client = {\"job\": \"blue-collar\", \"duration\": 40, \"poutcome\": \"success\"}\n",
    "requests.post(url, json=client).json()"
   ]
  },
  {
   "cell_type": "code",
   "execution_count": null,
   "id": "e8e4205c-e2c6-45f4-9000-c840cebf36d6",
   "metadata": {},
   "outputs": [],
   "source": []
  }
 ],
 "metadata": {
  "kernelspec": {
   "display_name": "Python 3 (ipykernel)",
   "language": "python",
   "name": "python3"
  },
  "language_info": {
   "codemirror_mode": {
    "name": "ipython",
    "version": 3
   },
   "file_extension": ".py",
   "mimetype": "text/x-python",
   "name": "python",
   "nbconvert_exporter": "python",
   "pygments_lexer": "ipython3",
   "version": "3.12.4"
  }
 },
 "nbformat": 4,
 "nbformat_minor": 5
}
