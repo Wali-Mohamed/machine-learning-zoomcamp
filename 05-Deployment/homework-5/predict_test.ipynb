{
 "cells": [
  {
   "cell_type": "code",
   "execution_count": 21,
   "id": "66f75cbb-b7f8-4085-909c-5df1d2254ec8",
   "metadata": {},
   "outputs": [
    {
     "data": {
      "application/javascript": [
       "IPython.notebook.set_autosave_interval(0)"
      ]
     },
     "metadata": {},
     "output_type": "display_data"
    },
    {
     "name": "stdout",
     "output_type": "stream",
     "text": [
      "Autosave disabled\n"
     ]
    }
   ],
   "source": [
    "%autosave 0"
   ]
  },
  {
   "cell_type": "code",
   "execution_count": 3,
   "id": "6b5b87c3-4b42-45a8-9920-154f70cf8d76",
   "metadata": {},
   "outputs": [],
   "source": [
    "import pickle"
   ]
  },
  {
   "cell_type": "code",
   "execution_count": 43,
   "id": "1d83ece8-2d36-47ad-b9bb-1f2dd864f27b",
   "metadata": {},
   "outputs": [],
   "source": [
    "# features = ['job', 'duration', 'poutcome']\n",
    "# dicts = df[features].to_dict(orient='records')\n",
    "\n",
    "# dv = DictVectorizer(sparse=False)\n",
    "# X = dv.fit_transform(dicts)\n",
    "\n",
    "# model = LogisticRegression().fit(X, y)"
   ]
  },
  {
   "cell_type": "code",
   "execution_count": 44,
   "id": "22b41cde-b3dc-4222-8d4c-4bd4ce8e94fc",
   "metadata": {},
   "outputs": [
    {
     "name": "stdout",
     "output_type": "stream",
     "text": [
      "{'job': 'management', 'duration': 400, 'poutcome': 'success'}\n"
     ]
    },
    {
     "name": "stderr",
     "output_type": "stream",
     "text": [
      "C:\\Users\\user\\miniconda3\\Lib\\site-packages\\sklearn\\base.py:376: InconsistentVersionWarning: Trying to unpickle estimator DictVectorizer from version 1.5.2 when using version 1.5.1. This might lead to breaking code or invalid results. Use at your own risk. For more info please refer to:\n",
      "https://scikit-learn.org/stable/model_persistence.html#security-maintainability-limitations\n",
      "  warnings.warn(\n",
      "C:\\Users\\user\\miniconda3\\Lib\\site-packages\\sklearn\\base.py:376: InconsistentVersionWarning: Trying to unpickle estimator LogisticRegression from version 1.5.2 when using version 1.5.1. This might lead to breaking code or invalid results. Use at your own risk. For more info please refer to:\n",
      "https://scikit-learn.org/stable/model_persistence.html#security-maintainability-limitations\n",
      "  warnings.warn(\n"
     ]
    }
   ],
   "source": [
    "customer={\"job\": \"management\", \"duration\": 400, \"poutcome\": \"success\"}\n",
    "print(customer)\n",
    "with open('dv.bin', 'rb') as f_in: # very important to use 'rb' here, it means read-binary \n",
    "    dv = pickle.load(f_in)\n",
    "with open('model1.bin', 'rb') as f_in: # very important to use 'rb' here, it means read-binary \n",
    "    model = pickle.load(f_in)"
   ]
  },
  {
   "cell_type": "code",
   "execution_count": 46,
   "id": "a19ecda7-78e3-44bc-9885-6f5877e22a2b",
   "metadata": {},
   "outputs": [
    {
     "data": {
      "text/plain": [
       "0.7590966516879658"
      ]
     },
     "execution_count": 46,
     "metadata": {},
     "output_type": "execute_result"
    }
   ],
   "source": [
    "x=dv.transform(customer)\n",
    "y_pred=model.predict_proba(x)[0,1]\n",
    "y_pred"
   ]
  },
  {
   "cell_type": "code",
   "execution_count": null,
   "id": "5d698127-0214-40e2-ba5e-36f9593a7bb3",
   "metadata": {},
   "outputs": [],
   "source": []
  },
  {
   "cell_type": "code",
   "execution_count": 47,
   "id": "35824929-29b2-4e71-8637-068d0c26003d",
   "metadata": {},
   "outputs": [],
   "source": [
    "import requests"
   ]
  },
  {
   "cell_type": "code",
   "execution_count": 54,
   "id": "99ddf1d2-de22-4cc8-8e6f-b871e8114d3e",
   "metadata": {},
   "outputs": [],
   "source": [
    "url='http://localhost:5000/pred'"
   ]
  },
  {
   "cell_type": "code",
   "execution_count": 55,
   "id": "e552e898-96ce-4c9c-aff6-57fa48544c57",
   "metadata": {},
   "outputs": [],
   "source": [
    "customer={\n",
    "    \"job\": \"management\", \n",
    "    \"duration\": 400, \n",
    "    \"poutcome\": \"success\"\n",
    "}"
   ]
  },
  {
   "cell_type": "code",
   "execution_count": 56,
   "id": "1445ed17-6d0c-48f9-9d0a-8c890e674016",
   "metadata": {},
   "outputs": [],
   "source": [
    "client1 = {\n",
    "    \"job\": \"student\",\n",
    "    \"duration\": 280, \n",
    "    \"poutcome\": \"failure\"}"
   ]
  },
  {
   "cell_type": "code",
   "execution_count": 57,
   "id": "647bf901-1593-446b-8da8-263111146975",
   "metadata": {},
   "outputs": [],
   "source": [
    "client2={\"job\": \"management\", \"duration\": 400, \"poutcome\": \"success\"}"
   ]
  },
  {
   "cell_type": "code",
   "execution_count": null,
   "id": "02f79dc3-e578-45fc-aeda-4885d606a059",
   "metadata": {},
   "outputs": [],
   "source": []
  },
  {
   "cell_type": "code",
   "execution_count": null,
   "id": "79edf70c-28ec-4d3e-a7e8-6cc23c3ea9f7",
   "metadata": {},
   "outputs": [],
   "source": []
  },
  {
   "cell_type": "code",
   "execution_count": 60,
   "id": "fa82815c-4ce6-4826-9c9d-528a20b6bf54",
   "metadata": {},
   "outputs": [
    {
     "data": {
      "text/plain": [
       "{'churn': True, 'churn_probability': 0.7590966516879658}"
      ]
     },
     "execution_count": 60,
     "metadata": {},
     "output_type": "execute_result"
    }
   ],
   "source": [
    "response=requests.post(url, json=client1).json()\n",
    "response"
   ]
  },
  {
   "cell_type": "code",
   "execution_count": 61,
   "id": "a8a50ec5-6e3d-4ab2-a79d-7bbaaeede494",
   "metadata": {},
   "outputs": [
    {
     "data": {
      "text/plain": [
       "{'churn': True, 'churn_probability': 0.7590966516879658}"
      ]
     },
     "execution_count": 61,
     "metadata": {},
     "output_type": "execute_result"
    }
   ],
   "source": [
    "url = \"http://localhost:5000/pred\"\n",
    "client = {\"job\": \"management\", \"duration\": 400, \"poutcome\": \"success\"}\n",
    "requests.post(url, json=client).json()"
   ]
  },
  {
   "cell_type": "code",
   "execution_count": 34,
   "id": "e7f2a7ee-b3dc-4f34-a116-7a294d67c632",
   "metadata": {},
   "outputs": [
    {
     "name": "stdout",
     "output_type": "stream",
     "text": [
      "sending promotion email to {'axy'}\n"
     ]
    }
   ],
   "source": [
    "if response['churn']==True:\n",
    "    print(f'sending promotion email to %s' %{'axy'})"
   ]
  },
  {
   "cell_type": "code",
   "execution_count": 12,
   "id": "0b461a0f-2819-4147-96ae-d3007cf94974",
   "metadata": {},
   "outputs": [],
   "source": [
    "a=p>0.5"
   ]
  },
  {
   "cell_type": "code",
   "execution_count": 14,
   "id": "6b1cbbb3-1641-47ef-8bd5-7ced742ec1d4",
   "metadata": {},
   "outputs": [
    {
     "data": {
      "text/plain": [
       "True"
      ]
     },
     "execution_count": 14,
     "metadata": {},
     "output_type": "execute_result"
    }
   ],
   "source": [
    "bool(a)"
   ]
  },
  {
   "cell_type": "code",
   "execution_count": null,
   "id": "b2ea3b6e-c121-4c89-8d33-c62582fa7976",
   "metadata": {},
   "outputs": [],
   "source": []
  }
 ],
 "metadata": {
  "kernelspec": {
   "display_name": "Python 3 (ipykernel)",
   "language": "python",
   "name": "python3"
  },
  "language_info": {
   "codemirror_mode": {
    "name": "ipython",
    "version": 3
   },
   "file_extension": ".py",
   "mimetype": "text/x-python",
   "name": "python",
   "nbconvert_exporter": "python",
   "pygments_lexer": "ipython3",
   "version": "3.12.4"
  }
 },
 "nbformat": 4,
 "nbformat_minor": 5
}
