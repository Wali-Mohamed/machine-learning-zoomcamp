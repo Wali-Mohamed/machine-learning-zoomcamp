{
 "cells": [
  {
   "cell_type": "code",
   "execution_count": 2,
   "id": "6c995249-f317-44e2-bd6b-e6b687255720",
   "metadata": {},
   "outputs": [
    {
     "name": "stderr",
     "output_type": "stream",
     "text": [
      "#0 building with \"desktop-linux\" instance using docker driver\n",
      "\n",
      "#1 [internal] load build definition from Dockerfile\n",
      "#1 transferring dockerfile: 292B 0.0s done\n",
      "#1 DONE 0.0s\n",
      "\n",
      "#2 [internal] load metadata for docker.io/svizor/zoomcamp-model:3.11.5-slim\n",
      "#2 DONE 0.0s\n",
      "\n",
      "#3 [internal] load .dockerignore\n",
      "#3 transferring context: 2B done\n",
      "#3 DONE 0.0s\n",
      "\n",
      "#4 [1/5] FROM docker.io/svizor/zoomcamp-model:3.11.5-slim\n",
      "#4 DONE 0.0s\n",
      "\n",
      "#5 [internal] load build context\n",
      "#5 transferring context: 95B done\n",
      "#5 DONE 0.0s\n",
      "\n",
      "#6 [2/5] RUN pip install pipenv\n",
      "#6 CACHED\n",
      "\n",
      "#7 [3/5] COPY [Pipfile, Pipfile.lock, ./]\n",
      "#7 CACHED\n",
      "\n",
      "#8 [4/5] RUN pipenv install --system --deploy\n",
      "#8 CACHED\n",
      "\n",
      "#9 [5/5] COPY [q6_predict.py, ./]\n",
      "#9 CACHED\n",
      "\n",
      "#10 exporting to image\n",
      "#10 exporting layers done\n",
      "#10 writing image sha256:1cce86fb14239b734987318a4090ae6dc0dcc89ef92f42a51854a17e69b633bf done\n",
      "#10 naming to docker.io/library/zoomcamp-model:3.11.5-hw10 0.0s done\n",
      "#10 DONE 0.0s\n",
      "\n",
      "View build details: docker-desktop://dashboard/build/desktop-linux/desktop-linux/vb1uv2yzk2c212bgy7feiadvy\n"
     ]
    }
   ],
   "source": [
    "!docker build -t zoomcamp-model:3.11.5-hw10 ."
   ]
  },
  {
   "cell_type": "markdown",
   "id": "43dd2a60-c17f-4760-b52e-5dce0e51de60",
   "metadata": {},
   "source": [
    "### Question 1\n",
    "\n",
    "Run it to test that it's working locally:\n",
    "\n",
    "```bash\n",
    "docker run -it --rm -p 9696:9696 zoomcamp-model:3.11.5-hw10 \n",
    "```\n",
    "\n",
    "And in another terminal, execute q6_test.py file:\n",
    "\n",
    "python q6_test.py\n",
    "You should see this:\n",
    "\n",
    "{'has_subscribed': True, 'has_subscribed_probability': <value>}\n",
    "Here <value> is the probability of getting a subscription. You need to choose the right one.\n",
    "\n",
    "0.287  \n",
    "0.530  \n",
    "0.757  Answer  \n",
    "0.960  "
   ]
  },
  {
   "cell_type": "code",
   "execution_count": 3,
   "id": "96802fb0-a981-441f-bb80-cf47f78aff17",
   "metadata": {},
   "outputs": [
    {
     "name": "stdout",
     "output_type": "stream",
     "text": [
      "{'has_subscribed': True, 'has_subscribed_probability': 0.756743795240796}\n"
     ]
    }
   ],
   "source": [
    "!python q6_test.py"
   ]
  },
  {
   "cell_type": "markdown",
   "id": "c71a5ea4-21e2-47e3-80d1-02fdb93fb0da",
   "metadata": {},
   "source": [
    "## Question 2\n",
    "What's the version of kind that you have?\n",
    "\n",
    "Use kind --version to find out."
   ]
  },
  {
   "cell_type": "code",
   "execution_count": 5,
   "id": "d33d5d58-56c4-4c38-9484-2e99d405a4c4",
   "metadata": {},
   "outputs": [
    {
     "name": "stdout",
     "output_type": "stream",
     "text": [
      "kind version 0.26.0\n"
     ]
    }
   ],
   "source": [
    "!kind --version"
   ]
  },
  {
   "cell_type": "code",
   "execution_count": 6,
   "id": "b5e4ce95-aa95-457e-92e2-abd6476851ee",
   "metadata": {},
   "outputs": [
    {
     "name": "stdout",
     "output_type": "stream",
     "text": [
      "Kubernetes control plane is running at https://127.0.0.1:65001\n",
      "CoreDNS is running at https://127.0.0.1:65001/api/v1/namespaces/kube-system/services/kube-dns:dns/proxy\n",
      "\n",
      "To further debug and diagnose cluster problems, use 'kubectl cluster-info dump'.\n"
     ]
    }
   ],
   "source": [
    "!kubectl cluster-info"
   ]
  },
  {
   "cell_type": "markdown",
   "id": "a91b47c7-f015-48cf-98b2-6d53395c03f3",
   "metadata": {},
   "source": [
    "### Question 3\n",
    "What's the smallest deployable computing unit that we can create and manage in Kubernetes (kind in our case)?\n",
    "\n",
    "Node  \n",
    "Pod > answer  \n",
    "Deployment  \n",
    "Service  "
   ]
  },
  {
   "cell_type": "markdown",
   "id": "796b29cd-c9f5-4b6e-8331-cc6307895bd7",
   "metadata": {},
   "source": [
    "## Question 4\n",
    "Now let's test if everything works. Use kubectl to get the list of running services.  \n",
    "\n",
    "What's the Type of the service that is already running there?   \n",
    "\n",
    "NodePort  \n",
    "ClusterIP  > Answer\n",
    "ExternalName  \n",
    "LoadBalancer  "
   ]
  },
  {
   "cell_type": "code",
   "execution_count": 10,
   "id": "4d0a4dc9-fddc-43ed-957b-ab5a5f026871",
   "metadata": {},
   "outputs": [
    {
     "name": "stdout",
     "output_type": "stream",
     "text": [
      "NAME         TYPE        CLUSTER-IP   EXTERNAL-IP   PORT(S)   AGE\n",
      "kubernetes   ClusterIP   10.96.0.1    <none>        443/TCP   20h\n"
     ]
    }
   ],
   "source": [
    "!kubectl get services\n"
   ]
  },
  {
   "cell_type": "markdown",
   "id": "6086dac9-21c3-4c76-aa57-35958fbb9d11",
   "metadata": {},
   "source": [
    "## Question 5\n",
    "To be able to use the docker image we previously created (zoomcamp-model:3.11.5-hw10), we need to register it with kind.\n",
    "\n",
    "What's the command we need to run for that?  \n",
    "\n",
    "kind create cluster  \n",
    "kind build node-image  \n",
    "kind load docker-image   > answer  \n",
    "kubectl apply  "
   ]
  },
  {
   "cell_type": "markdown",
   "id": "88a6673d-ad71-45a3-8aee-61ff570d75e9",
   "metadata": {},
   "source": [
    "## Question 6\n",
    "What is the value for < Port >?"
   ]
  },
  {
   "cell_type": "markdown",
   "id": "ce360e9d-a261-4e3f-83cf-3ce4b4c3fa46",
   "metadata": {},
   "source": [
    "## Question 7\n",
    "Let's create a service for this deployment (service.yaml):\n",
    "\n",
    "apiVersion: v1  \n",
    "kind: Service  \n",
    "metadata:  \n",
    "  name: <Service name>  \n",
    "spec:  \n",
    "  type: LoadBalancer  \n",
    "  selector:  \n",
    "    app: <???>  \n",
    "  ports:  \n",
    "  - port: 80  \n",
    "    targetPort: <PORT>  \n",
    "Fill it in. What do we need to write instead of <???>?  \n",
    "\n",
    "Apply this config file."
   ]
  },
  {
   "cell_type": "code",
   "execution_count": null,
   "id": "d51f01ce-f661-4a11-8246-4f85cb3646de",
   "metadata": {},
   "outputs": [],
   "source": []
  }
 ],
 "metadata": {
  "kernelspec": {
   "display_name": "Python 3 (ipykernel)",
   "language": "python",
   "name": "python3"
  },
  "language_info": {
   "codemirror_mode": {
    "name": "ipython",
    "version": 3
   },
   "file_extension": ".py",
   "mimetype": "text/x-python",
   "name": "python",
   "nbconvert_exporter": "python",
   "pygments_lexer": "ipython3",
   "version": "3.12.4"
  }
 },
 "nbformat": 4,
 "nbformat_minor": 5
}
