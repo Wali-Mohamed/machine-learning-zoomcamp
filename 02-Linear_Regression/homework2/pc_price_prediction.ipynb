{
 "cells": [
  {
   "cell_type": "code",
   "execution_count": 43,
   "id": "bc9aa230-d22e-47b5-9dc5-d9f6e3739003",
   "metadata": {},
   "outputs": [],
   "source": [
    "# import libraries\n",
    "import pandas as pd\n",
    "import seaborn as sns\n",
    "import numpy as np\n",
    "from matplotlib import pyplot as plt\n",
    "\n",
    "%matplotlib inline"
   ]
  },
  {
   "cell_type": "code",
   "execution_count": null,
   "id": "f9a1c0c8-fb98-4485-8154-d0412dcafa7b",
   "metadata": {},
   "outputs": [],
   "source": [
    "\n"
   ]
  },
  {
   "cell_type": "code",
   "execution_count": 44,
   "id": "22524238-8531-45c9-8766-aaf71a724942",
   "metadata": {},
   "outputs": [],
   "source": [
    "df=pd.read_csv('laptops.csv')"
   ]
  },
  {
   "cell_type": "code",
   "execution_count": 45,
   "id": "fbc781bc-2434-4d43-a2e9-b7a96c78f074",
   "metadata": {},
   "outputs": [
    {
     "data": {
      "text/html": [
       "<div>\n",
       "<style scoped>\n",
       "    .dataframe tbody tr th:only-of-type {\n",
       "        vertical-align: middle;\n",
       "    }\n",
       "\n",
       "    .dataframe tbody tr th {\n",
       "        vertical-align: top;\n",
       "    }\n",
       "\n",
       "    .dataframe thead th {\n",
       "        text-align: right;\n",
       "    }\n",
       "</style>\n",
       "<table border=\"1\" class=\"dataframe\">\n",
       "  <thead>\n",
       "    <tr style=\"text-align: right;\">\n",
       "      <th></th>\n",
       "      <th>Laptop</th>\n",
       "      <th>Status</th>\n",
       "      <th>Brand</th>\n",
       "      <th>Model</th>\n",
       "      <th>CPU</th>\n",
       "      <th>RAM</th>\n",
       "      <th>Storage</th>\n",
       "      <th>Storage type</th>\n",
       "      <th>GPU</th>\n",
       "      <th>Screen</th>\n",
       "      <th>Touch</th>\n",
       "      <th>Final Price</th>\n",
       "    </tr>\n",
       "  </thead>\n",
       "  <tbody>\n",
       "    <tr>\n",
       "      <th>0</th>\n",
       "      <td>ASUS ExpertBook B1 B1502CBA-EJ0436X Intel Core...</td>\n",
       "      <td>New</td>\n",
       "      <td>Asus</td>\n",
       "      <td>ExpertBook</td>\n",
       "      <td>Intel Core i5</td>\n",
       "      <td>8</td>\n",
       "      <td>512</td>\n",
       "      <td>SSD</td>\n",
       "      <td>NaN</td>\n",
       "      <td>15.6</td>\n",
       "      <td>No</td>\n",
       "      <td>1009.00</td>\n",
       "    </tr>\n",
       "    <tr>\n",
       "      <th>1</th>\n",
       "      <td>Alurin Go Start Intel Celeron N4020/8GB/256GB ...</td>\n",
       "      <td>New</td>\n",
       "      <td>Alurin</td>\n",
       "      <td>Go</td>\n",
       "      <td>Intel Celeron</td>\n",
       "      <td>8</td>\n",
       "      <td>256</td>\n",
       "      <td>SSD</td>\n",
       "      <td>NaN</td>\n",
       "      <td>15.6</td>\n",
       "      <td>No</td>\n",
       "      <td>299.00</td>\n",
       "    </tr>\n",
       "    <tr>\n",
       "      <th>2</th>\n",
       "      <td>ASUS ExpertBook B1 B1502CBA-EJ0424X Intel Core...</td>\n",
       "      <td>New</td>\n",
       "      <td>Asus</td>\n",
       "      <td>ExpertBook</td>\n",
       "      <td>Intel Core i3</td>\n",
       "      <td>8</td>\n",
       "      <td>256</td>\n",
       "      <td>SSD</td>\n",
       "      <td>NaN</td>\n",
       "      <td>15.6</td>\n",
       "      <td>No</td>\n",
       "      <td>789.00</td>\n",
       "    </tr>\n",
       "    <tr>\n",
       "      <th>3</th>\n",
       "      <td>MSI Katana GF66 12UC-082XES Intel Core i7-1270...</td>\n",
       "      <td>New</td>\n",
       "      <td>MSI</td>\n",
       "      <td>Katana</td>\n",
       "      <td>Intel Core i7</td>\n",
       "      <td>16</td>\n",
       "      <td>1000</td>\n",
       "      <td>SSD</td>\n",
       "      <td>RTX 3050</td>\n",
       "      <td>15.6</td>\n",
       "      <td>No</td>\n",
       "      <td>1199.00</td>\n",
       "    </tr>\n",
       "    <tr>\n",
       "      <th>4</th>\n",
       "      <td>HP 15S-FQ5085NS Intel Core i5-1235U/16GB/512GB...</td>\n",
       "      <td>New</td>\n",
       "      <td>HP</td>\n",
       "      <td>15S</td>\n",
       "      <td>Intel Core i5</td>\n",
       "      <td>16</td>\n",
       "      <td>512</td>\n",
       "      <td>SSD</td>\n",
       "      <td>NaN</td>\n",
       "      <td>15.6</td>\n",
       "      <td>No</td>\n",
       "      <td>669.01</td>\n",
       "    </tr>\n",
       "    <tr>\n",
       "      <th>...</th>\n",
       "      <td>...</td>\n",
       "      <td>...</td>\n",
       "      <td>...</td>\n",
       "      <td>...</td>\n",
       "      <td>...</td>\n",
       "      <td>...</td>\n",
       "      <td>...</td>\n",
       "      <td>...</td>\n",
       "      <td>...</td>\n",
       "      <td>...</td>\n",
       "      <td>...</td>\n",
       "      <td>...</td>\n",
       "    </tr>\n",
       "    <tr>\n",
       "      <th>2155</th>\n",
       "      <td>Razer Blade 17 FHD 360Hz Intel Core i7-11800H/...</td>\n",
       "      <td>Refurbished</td>\n",
       "      <td>Razer</td>\n",
       "      <td>Blade</td>\n",
       "      <td>Intel Core i7</td>\n",
       "      <td>16</td>\n",
       "      <td>1000</td>\n",
       "      <td>SSD</td>\n",
       "      <td>RTX 3060</td>\n",
       "      <td>17.3</td>\n",
       "      <td>No</td>\n",
       "      <td>2699.99</td>\n",
       "    </tr>\n",
       "    <tr>\n",
       "      <th>2156</th>\n",
       "      <td>Razer Blade 17 FHD 360Hz Intel Core i7-11800H/...</td>\n",
       "      <td>Refurbished</td>\n",
       "      <td>Razer</td>\n",
       "      <td>Blade</td>\n",
       "      <td>Intel Core i7</td>\n",
       "      <td>16</td>\n",
       "      <td>1000</td>\n",
       "      <td>SSD</td>\n",
       "      <td>RTX 3070</td>\n",
       "      <td>17.3</td>\n",
       "      <td>No</td>\n",
       "      <td>2899.99</td>\n",
       "    </tr>\n",
       "    <tr>\n",
       "      <th>2157</th>\n",
       "      <td>Razer Blade 17 FHD 360Hz Intel Core i7-11800H/...</td>\n",
       "      <td>Refurbished</td>\n",
       "      <td>Razer</td>\n",
       "      <td>Blade</td>\n",
       "      <td>Intel Core i7</td>\n",
       "      <td>32</td>\n",
       "      <td>1000</td>\n",
       "      <td>SSD</td>\n",
       "      <td>RTX 3080</td>\n",
       "      <td>17.3</td>\n",
       "      <td>No</td>\n",
       "      <td>3399.99</td>\n",
       "    </tr>\n",
       "    <tr>\n",
       "      <th>2158</th>\n",
       "      <td>Razer Book 13 Intel Evo Core i7-1165G7/16GB/1T...</td>\n",
       "      <td>Refurbished</td>\n",
       "      <td>Razer</td>\n",
       "      <td>Book</td>\n",
       "      <td>Intel Evo Core i7</td>\n",
       "      <td>16</td>\n",
       "      <td>1000</td>\n",
       "      <td>SSD</td>\n",
       "      <td>NaN</td>\n",
       "      <td>13.4</td>\n",
       "      <td>Yes</td>\n",
       "      <td>1899.99</td>\n",
       "    </tr>\n",
       "    <tr>\n",
       "      <th>2159</th>\n",
       "      <td>Razer Book FHD+ Intel Evo Core i7-1165G7/16GB/...</td>\n",
       "      <td>Refurbished</td>\n",
       "      <td>Razer</td>\n",
       "      <td>Book</td>\n",
       "      <td>Intel Evo Core i7</td>\n",
       "      <td>16</td>\n",
       "      <td>256</td>\n",
       "      <td>SSD</td>\n",
       "      <td>NaN</td>\n",
       "      <td>13.4</td>\n",
       "      <td>Yes</td>\n",
       "      <td>1699.99</td>\n",
       "    </tr>\n",
       "  </tbody>\n",
       "</table>\n",
       "<p>2160 rows × 12 columns</p>\n",
       "</div>"
      ],
      "text/plain": [
       "                                                 Laptop       Status   Brand  \\\n",
       "0     ASUS ExpertBook B1 B1502CBA-EJ0436X Intel Core...          New    Asus   \n",
       "1     Alurin Go Start Intel Celeron N4020/8GB/256GB ...          New  Alurin   \n",
       "2     ASUS ExpertBook B1 B1502CBA-EJ0424X Intel Core...          New    Asus   \n",
       "3     MSI Katana GF66 12UC-082XES Intel Core i7-1270...          New     MSI   \n",
       "4     HP 15S-FQ5085NS Intel Core i5-1235U/16GB/512GB...          New      HP   \n",
       "...                                                 ...          ...     ...   \n",
       "2155  Razer Blade 17 FHD 360Hz Intel Core i7-11800H/...  Refurbished   Razer   \n",
       "2156  Razer Blade 17 FHD 360Hz Intel Core i7-11800H/...  Refurbished   Razer   \n",
       "2157  Razer Blade 17 FHD 360Hz Intel Core i7-11800H/...  Refurbished   Razer   \n",
       "2158  Razer Book 13 Intel Evo Core i7-1165G7/16GB/1T...  Refurbished   Razer   \n",
       "2159  Razer Book FHD+ Intel Evo Core i7-1165G7/16GB/...  Refurbished   Razer   \n",
       "\n",
       "           Model                CPU  RAM  Storage Storage type       GPU  \\\n",
       "0     ExpertBook      Intel Core i5    8      512          SSD       NaN   \n",
       "1             Go      Intel Celeron    8      256          SSD       NaN   \n",
       "2     ExpertBook      Intel Core i3    8      256          SSD       NaN   \n",
       "3         Katana      Intel Core i7   16     1000          SSD  RTX 3050   \n",
       "4            15S      Intel Core i5   16      512          SSD       NaN   \n",
       "...          ...                ...  ...      ...          ...       ...   \n",
       "2155       Blade      Intel Core i7   16     1000          SSD  RTX 3060   \n",
       "2156       Blade      Intel Core i7   16     1000          SSD  RTX 3070   \n",
       "2157       Blade      Intel Core i7   32     1000          SSD  RTX 3080   \n",
       "2158        Book  Intel Evo Core i7   16     1000          SSD       NaN   \n",
       "2159        Book  Intel Evo Core i7   16      256          SSD       NaN   \n",
       "\n",
       "      Screen Touch  Final Price  \n",
       "0       15.6    No      1009.00  \n",
       "1       15.6    No       299.00  \n",
       "2       15.6    No       789.00  \n",
       "3       15.6    No      1199.00  \n",
       "4       15.6    No       669.01  \n",
       "...      ...   ...          ...  \n",
       "2155    17.3    No      2699.99  \n",
       "2156    17.3    No      2899.99  \n",
       "2157    17.3    No      3399.99  \n",
       "2158    13.4   Yes      1899.99  \n",
       "2159    13.4   Yes      1699.99  \n",
       "\n",
       "[2160 rows x 12 columns]"
      ]
     },
     "execution_count": 45,
     "metadata": {},
     "output_type": "execute_result"
    }
   ],
   "source": [
    "df.head()\n",
    "df"
   ]
  },
  {
   "cell_type": "markdown",
   "id": "9dd3cd9b-b1ce-47ec-8ace-8e91a7246a97",
   "metadata": {},
   "source": [
    "### Prepare data"
   ]
  },
  {
   "cell_type": "code",
   "execution_count": 46,
   "id": "7a2e15ed-64e4-407e-9b22-301dbf6fdd9b",
   "metadata": {},
   "outputs": [
    {
     "data": {
      "text/html": [
       "<div>\n",
       "<style scoped>\n",
       "    .dataframe tbody tr th:only-of-type {\n",
       "        vertical-align: middle;\n",
       "    }\n",
       "\n",
       "    .dataframe tbody tr th {\n",
       "        vertical-align: top;\n",
       "    }\n",
       "\n",
       "    .dataframe thead th {\n",
       "        text-align: right;\n",
       "    }\n",
       "</style>\n",
       "<table border=\"1\" class=\"dataframe\">\n",
       "  <thead>\n",
       "    <tr style=\"text-align: right;\">\n",
       "      <th></th>\n",
       "      <th>laptop</th>\n",
       "      <th>status</th>\n",
       "      <th>brand</th>\n",
       "      <th>model</th>\n",
       "      <th>cpu</th>\n",
       "      <th>ram</th>\n",
       "      <th>storage</th>\n",
       "      <th>storage_type</th>\n",
       "      <th>gpu</th>\n",
       "      <th>screen</th>\n",
       "      <th>touch</th>\n",
       "      <th>final_price</th>\n",
       "    </tr>\n",
       "  </thead>\n",
       "  <tbody>\n",
       "    <tr>\n",
       "      <th>0</th>\n",
       "      <td>ASUS ExpertBook B1 B1502CBA-EJ0436X Intel Core...</td>\n",
       "      <td>New</td>\n",
       "      <td>Asus</td>\n",
       "      <td>ExpertBook</td>\n",
       "      <td>Intel Core i5</td>\n",
       "      <td>8</td>\n",
       "      <td>512</td>\n",
       "      <td>SSD</td>\n",
       "      <td>NaN</td>\n",
       "      <td>15.6</td>\n",
       "      <td>No</td>\n",
       "      <td>1009.0</td>\n",
       "    </tr>\n",
       "  </tbody>\n",
       "</table>\n",
       "</div>"
      ],
      "text/plain": [
       "                                              laptop status brand       model  \\\n",
       "0  ASUS ExpertBook B1 B1502CBA-EJ0436X Intel Core...    New  Asus  ExpertBook   \n",
       "\n",
       "             cpu  ram  storage storage_type  gpu  screen touch  final_price  \n",
       "0  Intel Core i5    8      512          SSD  NaN    15.6    No       1009.0  "
      ]
     },
     "execution_count": 46,
     "metadata": {},
     "output_type": "execute_result"
    }
   ],
   "source": [
    "df.columns=df.columns.str.lower().str.replace(' ','_')\n",
    "df.head(1)"
   ]
  },
  {
   "cell_type": "code",
   "execution_count": 47,
   "id": "a55684a5-1e6f-47a7-b9a7-459bdfaa82a0",
   "metadata": {},
   "outputs": [
    {
     "data": {
      "text/plain": [
       "['laptop', 'status', 'brand', 'model', 'cpu', 'storage_type', 'gpu', 'touch']"
      ]
     },
     "execution_count": 47,
     "metadata": {},
     "output_type": "execute_result"
    }
   ],
   "source": [
    "# get all columns with strings contents\n",
    "string_columns= list(df.dtypes [df.dtypes=='object'].index)\n",
    "string_columns"
   ]
  },
  {
   "cell_type": "code",
   "execution_count": 48,
   "id": "15fdbf80-c093-4711-b5cc-7f7211c405ca",
   "metadata": {},
   "outputs": [],
   "source": [
    "for col in string_columns:\n",
    "    df[col] = df[col].str.lower().str.replace(' ', '_')"
   ]
  },
  {
   "cell_type": "code",
   "execution_count": 49,
   "id": "ad9c4ef0-597d-4482-ac20-6701f34819e6",
   "metadata": {},
   "outputs": [
    {
     "data": {
      "text/html": [
       "<div>\n",
       "<style scoped>\n",
       "    .dataframe tbody tr th:only-of-type {\n",
       "        vertical-align: middle;\n",
       "    }\n",
       "\n",
       "    .dataframe tbody tr th {\n",
       "        vertical-align: top;\n",
       "    }\n",
       "\n",
       "    .dataframe thead th {\n",
       "        text-align: right;\n",
       "    }\n",
       "</style>\n",
       "<table border=\"1\" class=\"dataframe\">\n",
       "  <thead>\n",
       "    <tr style=\"text-align: right;\">\n",
       "      <th></th>\n",
       "      <th>laptop</th>\n",
       "      <th>status</th>\n",
       "      <th>brand</th>\n",
       "      <th>model</th>\n",
       "      <th>cpu</th>\n",
       "      <th>ram</th>\n",
       "      <th>storage</th>\n",
       "      <th>storage_type</th>\n",
       "      <th>gpu</th>\n",
       "      <th>screen</th>\n",
       "      <th>touch</th>\n",
       "      <th>final_price</th>\n",
       "    </tr>\n",
       "  </thead>\n",
       "  <tbody>\n",
       "    <tr>\n",
       "      <th>0</th>\n",
       "      <td>asus_expertbook_b1_b1502cba-ej0436x_intel_core...</td>\n",
       "      <td>new</td>\n",
       "      <td>asus</td>\n",
       "      <td>expertbook</td>\n",
       "      <td>intel_core_i5</td>\n",
       "      <td>8</td>\n",
       "      <td>512</td>\n",
       "      <td>ssd</td>\n",
       "      <td>NaN</td>\n",
       "      <td>15.6</td>\n",
       "      <td>no</td>\n",
       "      <td>1009.00</td>\n",
       "    </tr>\n",
       "    <tr>\n",
       "      <th>1</th>\n",
       "      <td>alurin_go_start_intel_celeron_n4020/8gb/256gb_...</td>\n",
       "      <td>new</td>\n",
       "      <td>alurin</td>\n",
       "      <td>go</td>\n",
       "      <td>intel_celeron</td>\n",
       "      <td>8</td>\n",
       "      <td>256</td>\n",
       "      <td>ssd</td>\n",
       "      <td>NaN</td>\n",
       "      <td>15.6</td>\n",
       "      <td>no</td>\n",
       "      <td>299.00</td>\n",
       "    </tr>\n",
       "    <tr>\n",
       "      <th>2</th>\n",
       "      <td>asus_expertbook_b1_b1502cba-ej0424x_intel_core...</td>\n",
       "      <td>new</td>\n",
       "      <td>asus</td>\n",
       "      <td>expertbook</td>\n",
       "      <td>intel_core_i3</td>\n",
       "      <td>8</td>\n",
       "      <td>256</td>\n",
       "      <td>ssd</td>\n",
       "      <td>NaN</td>\n",
       "      <td>15.6</td>\n",
       "      <td>no</td>\n",
       "      <td>789.00</td>\n",
       "    </tr>\n",
       "    <tr>\n",
       "      <th>3</th>\n",
       "      <td>msi_katana_gf66_12uc-082xes_intel_core_i7-1270...</td>\n",
       "      <td>new</td>\n",
       "      <td>msi</td>\n",
       "      <td>katana</td>\n",
       "      <td>intel_core_i7</td>\n",
       "      <td>16</td>\n",
       "      <td>1000</td>\n",
       "      <td>ssd</td>\n",
       "      <td>rtx_3050</td>\n",
       "      <td>15.6</td>\n",
       "      <td>no</td>\n",
       "      <td>1199.00</td>\n",
       "    </tr>\n",
       "    <tr>\n",
       "      <th>4</th>\n",
       "      <td>hp_15s-fq5085ns_intel_core_i5-1235u/16gb/512gb...</td>\n",
       "      <td>new</td>\n",
       "      <td>hp</td>\n",
       "      <td>15s</td>\n",
       "      <td>intel_core_i5</td>\n",
       "      <td>16</td>\n",
       "      <td>512</td>\n",
       "      <td>ssd</td>\n",
       "      <td>NaN</td>\n",
       "      <td>15.6</td>\n",
       "      <td>no</td>\n",
       "      <td>669.01</td>\n",
       "    </tr>\n",
       "  </tbody>\n",
       "</table>\n",
       "</div>"
      ],
      "text/plain": [
       "                                              laptop status   brand  \\\n",
       "0  asus_expertbook_b1_b1502cba-ej0436x_intel_core...    new    asus   \n",
       "1  alurin_go_start_intel_celeron_n4020/8gb/256gb_...    new  alurin   \n",
       "2  asus_expertbook_b1_b1502cba-ej0424x_intel_core...    new    asus   \n",
       "3  msi_katana_gf66_12uc-082xes_intel_core_i7-1270...    new     msi   \n",
       "4  hp_15s-fq5085ns_intel_core_i5-1235u/16gb/512gb...    new      hp   \n",
       "\n",
       "        model            cpu  ram  storage storage_type       gpu  screen  \\\n",
       "0  expertbook  intel_core_i5    8      512          ssd       NaN    15.6   \n",
       "1          go  intel_celeron    8      256          ssd       NaN    15.6   \n",
       "2  expertbook  intel_core_i3    8      256          ssd       NaN    15.6   \n",
       "3      katana  intel_core_i7   16     1000          ssd  rtx_3050    15.6   \n",
       "4         15s  intel_core_i5   16      512          ssd       NaN    15.6   \n",
       "\n",
       "  touch  final_price  \n",
       "0    no      1009.00  \n",
       "1    no       299.00  \n",
       "2    no       789.00  \n",
       "3    no      1199.00  \n",
       "4    no       669.01  "
      ]
     },
     "execution_count": 49,
     "metadata": {},
     "output_type": "execute_result"
    }
   ],
   "source": [
    "# checking the result\n",
    "df.head()"
   ]
  },
  {
   "cell_type": "code",
   "execution_count": 50,
   "id": "8cb67df5-27ba-4de4-b894-db7af2b5f322",
   "metadata": {},
   "outputs": [
    {
     "name": "stdout",
     "output_type": "stream",
     "text": [
      "<class 'pandas.core.frame.DataFrame'>\n",
      "RangeIndex: 2160 entries, 0 to 2159\n",
      "Data columns (total 12 columns):\n",
      " #   Column        Non-Null Count  Dtype  \n",
      "---  ------        --------------  -----  \n",
      " 0   laptop        2160 non-null   object \n",
      " 1   status        2160 non-null   object \n",
      " 2   brand         2160 non-null   object \n",
      " 3   model         2160 non-null   object \n",
      " 4   cpu           2160 non-null   object \n",
      " 5   ram           2160 non-null   int64  \n",
      " 6   storage       2160 non-null   int64  \n",
      " 7   storage_type  2118 non-null   object \n",
      " 8   gpu           789 non-null    object \n",
      " 9   screen        2156 non-null   float64\n",
      " 10  touch         2160 non-null   object \n",
      " 11  final_price   2160 non-null   float64\n",
      "dtypes: float64(2), int64(2), object(8)\n",
      "memory usage: 202.6+ KB\n"
     ]
    }
   ],
   "source": [
    "df.info()"
   ]
  },
  {
   "cell_type": "code",
   "execution_count": 51,
   "id": "3fe15bbd-8731-44f3-a271-1fc554009f48",
   "metadata": {},
   "outputs": [
    {
     "data": {
      "text/plain": [
       "\"\\n\\n'ram',\\n'storage',\\n'screen',\\n'final_price'\\n\\n\""
      ]
     },
     "execution_count": 51,
     "metadata": {},
     "output_type": "execute_result"
    }
   ],
   "source": [
    "# slicing to only have Next, use only the following columns:\n",
    "'''\n",
    "\n",
    "'ram',\n",
    "'storage',\n",
    "'screen',\n",
    "'final_price'\n",
    "\n",
    "'''"
   ]
  },
  {
   "cell_type": "code",
   "execution_count": 52,
   "id": "e301bf15-bcd0-4c45-9e75-af5628049088",
   "metadata": {},
   "outputs": [],
   "source": [
    "# slicing the target columns\n",
    "df=df[['ram','storage','screen','final_price']]"
   ]
  },
  {
   "cell_type": "markdown",
   "id": "dd966918-7c40-4661-9218-720f5da3f608",
   "metadata": {},
   "source": [
    "### Explotory data analysis"
   ]
  },
  {
   "cell_type": "code",
   "execution_count": 218,
   "id": "0d082e84-08c2-4a49-a47e-92b74615111a",
   "metadata": {},
   "outputs": [
    {
     "data": {
      "image/png": "[encoded data removed]",
      "text/plain": [
       "<Figure size 600x400 with 1 Axes>"
      ]
     },
     "metadata": {},
     "output_type": "display_data"
    }
   ],
   "source": [
    "plt.figure(figsize=(6, 4))\n",
    "\n",
    "sns.histplot(df.final_price, bins=40, color='blue', alpha=1)\n",
    "plt.ylabel('Frequency')\n",
    "plt.xlabel('Price')\n",
    "plt.title('Distribution of prices')\n",
    "\n",
    "plt.show()"
   ]
  },
  {
   "cell_type": "code",
   "execution_count": 54,
   "id": "dbbde000-4717-483b-bf4e-e3d7987f90c4",
   "metadata": {},
   "outputs": [],
   "source": [
    "# dealing with outliers\n",
    "data=[1,10,100,1000]\n",
    "datalog=np.log(data)"
   ]
  },
  {
   "cell_type": "code",
   "execution_count": 55,
   "id": "57078d77-9759-4c99-9421-6bdc565a9856",
   "metadata": {},
   "outputs": [
    {
     "data": {
      "text/plain": [
       "array([0.69314718, 2.39789527, 4.61512052, 6.90875478])"
      ]
     },
     "execution_count": 55,
     "metadata": {},
     "output_type": "execute_result"
    }
   ],
   "source": [
    "# using np.log1p add one unit to every number in list and compute natural log\n",
    "np.log1p(data)"
   ]
  },
  {
   "cell_type": "code",
   "execution_count": 56,
   "id": "51a199b2-b07f-4502-b081-0863d9ec1857",
   "metadata": {},
   "outputs": [
    {
     "data": {
      "text/plain": [
       "array([   1.,   10.,  100., 1000.])"
      ]
     },
     "execution_count": 56,
     "metadata": {},
     "output_type": "execute_result"
    }
   ],
   "source": [
    "# find exponent number which were produced by np.log1p\n",
    "np.expm1(np.log1p(data))"
   ]
  },
  {
   "cell_type": "code",
   "execution_count": 57,
   "id": "904fcd1a-da43-45af-acfe-506b4adaad59",
   "metadata": {},
   "outputs": [
    {
     "data": {
      "image/png": "[encoded data removed]",
      "text/plain": [
       "<Figure size 600x400 with 1 Axes>"
      ]
     },
     "metadata": {},
     "output_type": "display_data"
    }
   ],
   "source": [
    "plt.figure(figsize=(6, 4))\n",
    "\n",
    "sns.histplot(df.final_price[df.final_price < 4000], bins=40, color='black', alpha=1)\n",
    "plt.ylabel('Frequency')\n",
    "plt.xlabel('Price')\n",
    "plt.title('Distribution of prices')\n",
    "\n",
    "plt.show()"
   ]
  },
  {
   "cell_type": "code",
   "execution_count": 58,
   "id": "5b1b7af6-da73-42d1-9097-a5c863be8ee3",
   "metadata": {},
   "outputs": [
    {
     "data": {
      "image/png": "[encoded data removed]",
      "text/plain": [
       "<Figure size 600x400 with 1 Axes>"
      ]
     },
     "metadata": {},
     "output_type": "display_data"
    }
   ],
   "source": [
    "log_price = np.log1p(df.final_price)\n",
    "\n",
    "plt.figure(figsize=(6, 4))\n",
    "\n",
    "sns.histplot(log_price, bins=40, color='blue', alpha=1)\n",
    "plt.ylabel('Frequency')\n",
    "plt.xlabel('Log(Price + 1)')\n",
    "plt.title('Distribution of prices after log tranformation')\n",
    "\n",
    "plt.show()  # this looks much better"
   ]
  },
  {
   "cell_type": "code",
   "execution_count": 59,
   "id": "0e7928b9-65aa-42e5-a237-0645f4aa8bce",
   "metadata": {},
   "outputs": [
    {
     "data": {
      "text/plain": [
       "ram            0\n",
       "storage        0\n",
       "screen         4\n",
       "final_price    0\n",
       "dtype: int64"
      ]
     },
     "execution_count": 59,
     "metadata": {},
     "output_type": "execute_result"
    }
   ],
   "source": [
    "df.isnull().sum()"
   ]
  },
  {
   "cell_type": "markdown",
   "id": "39f56dea-5213-4087-8a5d-bf96d224c048",
   "metadata": {},
   "source": [
    "### Question 1\n"
   ]
  },
  {
   "cell_type": "code",
   "execution_count": 60,
   "id": "789b6566-8375-461a-bdde-c8a8697d5b32",
   "metadata": {},
   "outputs": [],
   "source": [
    "### There's one column with missing values. What is it?\n",
    "# screen\n"
   ]
  },
  {
   "cell_type": "code",
   "execution_count": 61,
   "id": "69cb6b39-adcc-4075-b0ba-ccdc1e6ef5ed",
   "metadata": {},
   "outputs": [],
   "source": [
    "# screen"
   ]
  },
  {
   "cell_type": "markdown",
   "id": "eef18306-a180-4b07-830d-642690810d1c",
   "metadata": {},
   "source": [
    "### Question 2"
   ]
  },
  {
   "cell_type": "code",
   "execution_count": 62,
   "id": "1370255a-4e4a-4ed1-8b0f-a1f4a3b64741",
   "metadata": {},
   "outputs": [],
   "source": [
    "\n",
    "# What's the median (50% percentile) for variable 'ram'?"
   ]
  },
  {
   "cell_type": "code",
   "execution_count": 63,
   "id": "0213bf9b-3b03-4292-97db-dae2971ca348",
   "metadata": {},
   "outputs": [
    {
     "data": {
      "text/plain": [
       "np.float64(16.0)"
      ]
     },
     "execution_count": 63,
     "metadata": {},
     "output_type": "execute_result"
    }
   ],
   "source": [
    "df.ram.median()  # 15.41"
   ]
  },
  {
   "cell_type": "markdown",
   "id": "a87481ec-5293-422c-9a96-e0a24079f6be",
   "metadata": {},
   "source": [
    "### Validation framework"
   ]
  },
  {
   "cell_type": "code",
   "execution_count": 196,
   "id": "f11765d1-5b87-411d-9a0a-0f9d4c8e7014",
   "metadata": {},
   "outputs": [],
   "source": [
    "np.random.seed(42)\n",
    "\n",
    "n = len(df)\n",
    "\n",
    "n_val = int(0.2 * n)\n",
    "n_test = int(0.2 * n)\n",
    "n_train = n - (n_val + n_test)\n",
    "\n",
    "idx = np.arange(n)\n",
    "np.random.shuffle(idx)\n",
    "\n",
    "df_shuffled = df.iloc[idx]\n",
    "\n",
    "df_train = df_shuffled.iloc[:n_train].copy()\n",
    "df_val = df_shuffled.iloc[n_train:n_train+n_val].copy()\n",
    "df_test = df_shuffled.iloc[n_train+n_val:].copy()"
   ]
  },
  {
   "cell_type": "code",
   "execution_count": 197,
   "id": "f1b2318f-b7fc-4603-922d-00773fc66f2a",
   "metadata": {},
   "outputs": [
    {
     "data": {
      "text/plain": [
       "(1296, 432, 432, 2160)"
      ]
     },
     "execution_count": 197,
     "metadata": {},
     "output_type": "execute_result"
    }
   ],
   "source": [
    "n_train, n_val, n_test, n"
   ]
  },
  {
   "cell_type": "code",
   "execution_count": null,
   "id": "4f6ca8bf-39ce-4e3f-aa51-195c3da86585",
   "metadata": {},
   "outputs": [],
   "source": []
  },
  {
   "cell_type": "code",
   "execution_count": 198,
   "id": "2b4d70e8-3f48-4f69-a374-57515e1cdf8f",
   "metadata": {},
   "outputs": [],
   "source": [
    "# if we want to logarith prices\n",
    "# y_train_orig = df_train.final_price.values\n",
    "# y_val_orig = df_val.final_price.values\n",
    "# y_test_orig = df_test.final_price.values\n",
    "\n",
    "# y_train = np.log1p(df_train.final_price.values)\n",
    "# y_val = np.log1p(df_val.final_price.values)\n",
    "# y_test = np.log1p(df_test.final_price.values)\n",
    "\n",
    "# del df_train['final_price']\n",
    "# del df_val['final_price']\n",
    "# del df_test['final_price']"
   ]
  },
  {
   "cell_type": "code",
   "execution_count": 199,
   "id": "0133188b-6e07-4095-a82d-cb566c538198",
   "metadata": {},
   "outputs": [],
   "source": [
    "y_train_orig = df_train.final_price.values\n",
    "y_val_orig = df_val.final_price.values\n",
    "y_test_orig = df_test.final_price.values\n",
    "\n",
    "y_train = df_train.final_price.values\n",
    "y_val = df_val.final_price.values\n",
    "y_test = df_test.final_price.values\n",
    "\n",
    "del df_train['final_price']\n",
    "del df_val['final_price']\n",
    "del df_test['final_price']"
   ]
  },
  {
   "cell_type": "markdown",
   "id": "c18b4935-618e-4f5b-ad10-e5778adf0c36",
   "metadata": {},
   "source": [
    "### Linear Regression"
   ]
  },
  {
   "cell_type": "code",
   "execution_count": 200,
   "id": "b6abdb1e-5555-4b36-b524-23bbab72ebc1",
   "metadata": {},
   "outputs": [],
   "source": [
    "# I need to review this"
   ]
  },
  {
   "cell_type": "code",
   "execution_count": 201,
   "id": "20facc31-d68c-4db5-b728-0b901c6f2024",
   "metadata": {},
   "outputs": [],
   "source": [
    "def train_linear_regression(X, y):\n",
    "    ones = np.ones(X.shape[0])\n",
    "    X = np.column_stack([ones, X])\n",
    "\n",
    "    XTX = X.T.dot(X)\n",
    "    XTX_inv = np.linalg.inv(XTX)\n",
    "    w = XTX_inv.dot(X.T).dot(y)\n",
    "    \n",
    "    return w[0], w[1:]"
   ]
  },
  {
   "cell_type": "markdown",
   "id": "358efd05-be16-44a5-86c7-4ce3958d93b3",
   "metadata": {},
   "source": [
    "### Baseline solution"
   ]
  },
  {
   "cell_type": "code",
   "execution_count": 202,
   "id": "ba1928df-73bf-4d72-a686-fff59f11e074",
   "metadata": {},
   "outputs": [],
   "source": [
    "base = ['ram',\n",
    "'storage',\n",
    "'screen',\n",
    "]"
   ]
  },
  {
   "cell_type": "code",
   "execution_count": 203,
   "id": "b47c17e5-3c3e-465b-9b45-c105faa0969d",
   "metadata": {},
   "outputs": [],
   "source": [
    "def prepare_X(df):\n",
    "    df_num = df[base]\n",
    "    df_num = df_num.fillna(0)\n",
    "    X = df_num.values\n",
    "    return X"
   ]
  },
  {
   "cell_type": "code",
   "execution_count": null,
   "id": "2ccff3f3-1b05-4809-b499-88f1cd673c71",
   "metadata": {},
   "outputs": [],
   "source": []
  },
  {
   "cell_type": "code",
   "execution_count": 204,
   "id": "567b5272-2af5-4dcd-95f4-aee6a4138f6a",
   "metadata": {},
   "outputs": [
    {
     "data": {
      "text/plain": [
       "ram            0\n",
       "storage        0\n",
       "screen         4\n",
       "final_price    0\n",
       "dtype: int64"
      ]
     },
     "execution_count": 204,
     "metadata": {},
     "output_type": "execute_result"
    }
   ],
   "source": [
    "df.isnull().sum()"
   ]
  },
  {
   "cell_type": "code",
   "execution_count": 205,
   "id": "08a82515-f42d-4c95-a0c1-e6013734ff57",
   "metadata": {},
   "outputs": [],
   "source": [
    "X_train = prepare_X(df_train)\n",
    "w_0, w = train_linear_regression(X_train, y_train)\n",
    "y_pred = w_0 + X_train.dot(w)"
   ]
  },
  {
   "cell_type": "code",
   "execution_count": 206,
   "id": "1e3becae-97aa-4fc6-8b9b-28870a42850c",
   "metadata": {},
   "outputs": [
    {
     "data": {
      "text/plain": [
       "np.int64(0)"
      ]
     },
     "execution_count": 206,
     "metadata": {},
     "output_type": "execute_result"
    }
   ],
   "source": [
    "np.isnan(X_train).sum()"
   ]
  },
  {
   "cell_type": "code",
   "execution_count": 207,
   "id": "93c7806c-30d6-40a3-a7cf-cb0d5b2d1b15",
   "metadata": {},
   "outputs": [
    {
     "data": {
      "text/plain": [
       "(np.float64(676.8954853003862),\n",
       " array([ 43.70681555,   0.86506867, -36.10399833]))"
      ]
     },
     "execution_count": 207,
     "metadata": {},
     "output_type": "execute_result"
    }
   ],
   "source": [
    "w_0,w"
   ]
  },
  {
   "cell_type": "code",
   "execution_count": null,
   "id": "27d74f23-0468-4b7f-8351-398d1e7ac7e4",
   "metadata": {},
   "outputs": [],
   "source": []
  },
  {
   "cell_type": "code",
   "execution_count": null,
   "id": "96e208d0-f203-4a14-b340-3e035eab506f",
   "metadata": {},
   "outputs": [],
   "source": []
  },
  {
   "cell_type": "code",
   "execution_count": null,
   "id": "2ccf9a35-a573-48ff-b7bd-fc6f7775e0e2",
   "metadata": {},
   "outputs": [],
   "source": []
  },
  {
   "cell_type": "code",
   "execution_count": null,
   "id": "64fa520a-9fa8-4b16-b683-650e1b59a20a",
   "metadata": {},
   "outputs": [],
   "source": []
  },
  {
   "cell_type": "markdown",
   "id": "8d09180d-3fc7-4eec-b9fd-bb5cee10ee3d",
   "metadata": {},
   "source": [
    "##### **RMSA**"
   ]
  },
  {
   "cell_type": "code",
   "execution_count": 208,
   "id": "c62a28fb-440b-4f59-9b29-cf5757252372",
   "metadata": {},
   "outputs": [],
   "source": [
    "def rmse(y, y_pred):\n",
    "    error = y_pred - y\n",
    "    mse = (error ** 2).mean()\n",
    "    return np.sqrt(mse)"
   ]
  },
  {
   "cell_type": "markdown",
   "id": "14b7629b-95eb-4580-b318-01edb93ad5d3",
   "metadata": {},
   "source": [
    "### baseline rmse"
   ]
  },
  {
   "cell_type": "code",
   "execution_count": 209,
   "id": "6546de2e-d137-43b3-a2ea-6c818ac9d15d",
   "metadata": {},
   "outputs": [],
   "source": [
    "y_mean=[y_train.mean()]* len(y_train)\n"
   ]
  },
  {
   "cell_type": "code",
   "execution_count": 210,
   "id": "ad6cb63e-5d86-4f1a-a090-093ab8685a41",
   "metadata": {},
   "outputs": [
    {
     "data": {
      "text/plain": [
       "np.float64(718.21)"
      ]
     },
     "execution_count": 210,
     "metadata": {},
     "output_type": "execute_result"
    }
   ],
   "source": [
    "round(rmse(y_mean, y_pred),2)\n"
   ]
  },
  {
   "cell_type": "code",
   "execution_count": 211,
   "id": "04e0a517-8816-4874-853a-e8992d16f56f",
   "metadata": {},
   "outputs": [
    {
     "data": {
      "text/plain": [
       "602"
      ]
     },
     "execution_count": 211,
     "metadata": {},
     "output_type": "execute_result"
    }
   ],
   "source": [
    "round(rmse(y_train, y_pred))"
   ]
  },
  {
   "cell_type": "code",
   "execution_count": 212,
   "id": "2d2ac14c-19a1-4f5e-86d4-183248177236",
   "metadata": {},
   "outputs": [],
   "source": [
    "X_val = prepare_X(df_val)\n",
    "y_pred = w_0 + X_val.dot(w)"
   ]
  },
  {
   "cell_type": "code",
   "execution_count": 213,
   "id": "7a415ae3-110b-4321-8092-ad90c67f672a",
   "metadata": {},
   "outputs": [
    {
     "data": {
      "text/plain": [
       "np.float64(597.36)"
      ]
     },
     "execution_count": 213,
     "metadata": {},
     "output_type": "execute_result"
    }
   ],
   "source": [
    "round(rmse(y_val, y_pred),2)"
   ]
  },
  {
   "cell_type": "code",
   "execution_count": 214,
   "id": "5c461e70-82e9-41d6-88fb-82061f22e52b",
   "metadata": {},
   "outputs": [
    {
     "data": {
      "image/png": "[encoded data removed]",
      "text/plain": [
       "<Figure size 600x400 with 1 Axes>"
      ]
     },
     "metadata": {},
     "output_type": "display_data"
    }
   ],
   "source": [
    "plt.figure(figsize=(6, 4))\n",
    "\n",
    "sns.histplot(y_val, label='target', color='green', alpha=0.6, bins=40)\n",
    "sns.histplot(y_pred, label='prediction', color='red', alpha=0.8, bins=40)\n",
    "\n",
    "plt.legend()\n",
    "\n",
    "plt.ylabel('Frequency')\n",
    "plt.xlabel('Final_Price')\n",
    "plt.title('Predictions vs actual distribution')\n",
    "\n",
    "plt.show()"
   ]
  },
  {
   "cell_type": "markdown",
   "id": "7aaeea3e-5e74-474d-b9e6-3eb5714c1d32",
   "metadata": {},
   "source": [
    "#### prediction by filling in with mean"
   ]
  },
  {
   "cell_type": "code",
   "execution_count": 100,
   "id": "f9d8f594-e552-43bb-934c-1dba355be37c",
   "metadata": {},
   "outputs": [
    {
     "data": {
      "text/plain": [
       "np.float64(15.163453164294694)"
      ]
     },
     "execution_count": 100,
     "metadata": {},
     "output_type": "execute_result"
    }
   ],
   "source": [
    "train_mean=X_train[:,2].mean()\n",
    "train_mean"
   ]
  },
  {
   "cell_type": "code",
   "execution_count": 101,
   "id": "2be4d4fa-f08d-437e-8396-ff92ed17877e",
   "metadata": {},
   "outputs": [],
   "source": [
    "def prepare_X(df):\n",
    "    df_num = df[base]\n",
    "    df_num = df_num.fillna(train_mean)\n",
    "    X = df_num.values\n",
    "    return X"
   ]
  },
  {
   "cell_type": "code",
   "execution_count": 102,
   "id": "83253a78-cf40-46c6-8f36-cba06a3f97ea",
   "metadata": {},
   "outputs": [],
   "source": [
    "X_train = prepare_X(df_train)\n",
    "w_0, w = train_linear_regression(X_train, y_train)"
   ]
  },
  {
   "cell_type": "code",
   "execution_count": 103,
   "id": "be0400df-e17c-41ae-927b-e6a224561ce4",
   "metadata": {},
   "outputs": [
    {
     "data": {
      "text/plain": [
       "(np.float64(808.9164634026029),\n",
       " array([ 43.90774624,   0.87135241, -45.18276712]))"
      ]
     },
     "execution_count": 103,
     "metadata": {},
     "output_type": "execute_result"
    }
   ],
   "source": [
    "w_0,w"
   ]
  },
  {
   "cell_type": "code",
   "execution_count": 110,
   "id": "ba983b61-004b-4a64-9e2c-0f859cf68d59",
   "metadata": {},
   "outputs": [],
   "source": [
    "y_pred = w_0 + X_train.dot(w)\n",
    "X_val = prepare_X(df_val)\n",
    "y_pred = w_0 + X_val.dot(w)"
   ]
  },
  {
   "cell_type": "code",
   "execution_count": 111,
   "id": "fb477130-93fa-435e-a4e5-4e0483d18ead",
   "metadata": {},
   "outputs": [
    {
     "data": {
      "image/png": "[encoded data removed]",
      "text/plain": [
       "<Figure size 600x400 with 1 Axes>"
      ]
     },
     "metadata": {},
     "output_type": "display_data"
    }
   ],
   "source": [
    "plt.figure(figsize=(6, 4))\n",
    "\n",
    "sns.histplot(y_val, label='target', color='green', alpha=0.6, bins=40)\n",
    "sns.histplot(y_pred, label='prediction', color='red', alpha=0.8, bins=40)\n",
    "\n",
    "plt.legend()\n",
    "\n",
    "plt.ylabel('Frequency')\n",
    "plt.xlabel('Log(Price + 1)')\n",
    "plt.title('Predictions vs actual distribution')\n",
    "\n",
    "plt.show()"
   ]
  },
  {
   "cell_type": "code",
   "execution_count": 113,
   "id": "0973b80b-2aa4-4870-8aac-167444dbcdf1",
   "metadata": {},
   "outputs": [
    {
     "data": {
      "text/plain": [
       "np.float64(600.27)"
      ]
     },
     "execution_count": 113,
     "metadata": {},
     "output_type": "execute_result"
    }
   ],
   "source": [
    "round(rmse(y_val, y_pred),2)\n"
   ]
  },
  {
   "cell_type": "code",
   "execution_count": 107,
   "id": "cb9f1e0c-d8d6-4768-a640-7c914e29e881",
   "metadata": {},
   "outputs": [],
   "source": []
  },
  {
   "cell_type": "code",
   "execution_count": 108,
   "id": "682de392-a7e4-4135-b3f7-ecb053bf4f1e",
   "metadata": {},
   "outputs": [
    {
     "data": {
      "text/plain": [
       "np.float64(600.27)"
      ]
     },
     "execution_count": 108,
     "metadata": {},
     "output_type": "execute_result"
    }
   ],
   "source": [
    "round(rmse(y_val, y_pred),2)"
   ]
  },
  {
   "cell_type": "markdown",
   "id": "df0abb62-b6d0-43ff-9da9-91040c19a8ae",
   "metadata": {},
   "source": [
    "### Question 3"
   ]
  },
  {
   "cell_type": "code",
   "execution_count": null,
   "id": "62305513-513a-4f9b-8475-52ce899e2fc2",
   "metadata": {},
   "outputs": [],
   "source": []
  },
  {
   "cell_type": "code",
   "execution_count": 175,
   "id": "13077422-c6bb-4bca-aff6-56af669612fb",
   "metadata": {},
   "outputs": [],
   "source": [
    "# Filling NAs"
   ]
  },
  {
   "cell_type": "code",
   "execution_count": 176,
   "id": "a6d4b183-e274-4bf1-be16-6c8a8883e600",
   "metadata": {},
   "outputs": [],
   "source": [
    "# We need to deal with missing values for the column from Q1.\n",
    "# We have two options: fill it with 0 or with the mean of this variable.\n",
    "# Try both options. For each, train a linear regression model without regularization using the code from the lessons.\n",
    "# For computing the mean, use the training only!\n",
    "# Use the validation dataset to evaluate the models and compare the RMSE of each option.\n",
    "# Round the RMSE scores to 2 decimal digits using round(score, 2)\n",
    "# Which option gives better RMSE?  it is the same when we use validataion data"
   ]
  },
  {
   "cell_type": "markdown",
   "id": "ddc4c619-a492-45e9-9141-d10b3c4ba194",
   "metadata": {},
   "source": [
    "### Question 4"
   ]
  },
  {
   "cell_type": "code",
   "execution_count": 177,
   "id": "1d2a2935-2f08-46b9-9d85-4cc4800acfdb",
   "metadata": {},
   "outputs": [],
   "source": [
    "\n",
    "# Now let's train a regularized linear regression.\n",
    "# For this question, fill the NAs with 0.\n",
    "# Try different values of r from this list: [0, 0.01, 0.1, 1, 5, 10, 100].\n",
    "# Use RMSE to evaluate the model on the validation dataset.\n",
    "# Round the RMSE scores to 2 decimal digits.\n",
    "# Which r gives the best RMSE?"
   ]
  },
  {
   "cell_type": "code",
   "execution_count": 114,
   "id": "288994a9-20de-4ee7-9457-1d2dd521dc48",
   "metadata": {},
   "outputs": [
    {
     "data": {
      "text/plain": [
       "['ram', 'storage', 'screen']"
      ]
     },
     "execution_count": 114,
     "metadata": {},
     "output_type": "execute_result"
    }
   ],
   "source": [
    "base.copy()"
   ]
  },
  {
   "cell_type": "code",
   "execution_count": 137,
   "id": "64ea55d2-9865-4b95-bf88-587f27936f0b",
   "metadata": {},
   "outputs": [],
   "source": [
    "def train_linear_regression_reg(X, y, r=0.0):\n",
    "    ones = np.ones(X.shape[0])\n",
    "    X = np.column_stack([ones, X])\n",
    "\n",
    "    XTX = X.T.dot(X)\n",
    "    reg = r * np.eye(XTX.shape[0])\n",
    "    XTX = XTX + reg\n",
    "\n",
    "    XTX_inv = np.linalg.inv(XTX)\n",
    "    w = XTX_inv.dot(X.T).dot(y)\n",
    "    \n",
    "    return w[0], w[1:]"
   ]
  },
  {
   "cell_type": "code",
   "execution_count": 116,
   "id": "fc891188-da6b-42b9-a8c3-3b8f2f18db72",
   "metadata": {},
   "outputs": [],
   "source": [
    "X_train = prepare_X(df_train)\n",
    "w_0, w = train_linear_regression_reg(X_train, y_train, r=0.002)"
   ]
  },
  {
   "cell_type": "code",
   "execution_count": 117,
   "id": "8e55268d-28d0-4e5f-8645-2c71e41dcb51",
   "metadata": {},
   "outputs": [],
   "source": [
    "y_pred = w_0 + X_train.dot(w)"
   ]
  },
  {
   "cell_type": "code",
   "execution_count": 118,
   "id": "8ab8486b-e498-40ef-bd82-9c513c39a276",
   "metadata": {},
   "outputs": [
    {
     "data": {
      "text/plain": [
       "np.float64(602.18)"
      ]
     },
     "execution_count": 118,
     "metadata": {},
     "output_type": "execute_result"
    }
   ],
   "source": [
    "round(rmse(y_train, y_pred),2)"
   ]
  },
  {
   "cell_type": "code",
   "execution_count": 119,
   "id": "389a3f32-22d2-4a1c-8c92-180f674e8459",
   "metadata": {},
   "outputs": [
    {
     "data": {
      "image/png": "[encoded data removed]",
      "text/plain": [
       "<Figure size 600x400 with 1 Axes>"
      ]
     },
     "metadata": {},
     "output_type": "display_data"
    }
   ],
   "source": [
    "plt.figure(figsize=(6, 4))\n",
    "\n",
    "sns.histplot(y_train, label='target', color='#222222', alpha=0.6, bins=40)\n",
    "sns.histplot(y_pred, label='prediction', color='#aaaaaa', alpha=0.8, bins=40)\n",
    "\n",
    "plt.legend()\n",
    "\n",
    "plt.ylabel('Frequency')\n",
    "plt.xlabel('Log(Price + 1)')\n",
    "plt.title('Predictions vs actual distribution')\n",
    "\n",
    "plt.show()"
   ]
  },
  {
   "cell_type": "code",
   "execution_count": 120,
   "id": "e69b0895-a8af-48aa-b88f-fb0f0a851184",
   "metadata": {},
   "outputs": [],
   "source": [
    "\n",
    "y_pred = w_0 + X_val.dot(w)"
   ]
  },
  {
   "cell_type": "code",
   "execution_count": 121,
   "id": "00fff650-187a-40c8-8946-17d10a660871",
   "metadata": {},
   "outputs": [
    {
     "data": {
      "text/plain": [
       "np.float64(600.26)"
      ]
     },
     "execution_count": 121,
     "metadata": {},
     "output_type": "execute_result"
    }
   ],
   "source": [
    "round(rmse(y_val, y_pred),2)"
   ]
  },
  {
   "cell_type": "code",
   "execution_count": 138,
   "id": "71b6ea21-10d2-457c-8aef-2add2351afa8",
   "metadata": {},
   "outputs": [
    {
     "name": "stdout",
     "output_type": "stream",
     "text": [
      "(0, np.float64(597.36))\n",
      "(0.01, np.float64(597.36))\n",
      "(0.1, np.float64(597.35))\n",
      "(1, np.float64(597.21))\n",
      "(5, np.float64(597.01))\n",
      "(10, np.float64(597.06))\n",
      "(100, np.float64(597.9))\n"
     ]
    }
   ],
   "source": [
    "for r in [0, 0.01, 0.1, 1, 5, 10, 100]:\n",
    "    \n",
    "    w_0, w = train_linear_regression_reg(X_train, y_train, r=r)\n",
    "    y_pred = w_0 + X_val.dot(w)\n",
    "    rm=round(rmse(y_val, y_pred),2)\n",
    "    print((r,rm))\n",
    "\n",
    "\n",
    "    \n",
    "    \n",
    "    "
   ]
  },
  {
   "cell_type": "markdown",
   "id": "09841b9e-2dc1-4619-bb84-05e09a5f6404",
   "metadata": {},
   "source": [
    "### Question 5"
   ]
  },
  {
   "cell_type": "code",
   "execution_count": 122,
   "id": "690024ae-c7bc-4451-bfba-4af0d1ff6898",
   "metadata": {},
   "outputs": [],
   "source": [
    "\n",
    "# We used seed 42 for splitting the data. Let's find out how selecting the seed influences our score.\n",
    "# Try different seed values: [0, 1, 2, 3, 4, 5, 6, 7, 8, 9].\n",
    "# For each seed, do the train/validation/test split with 60%/20%/20% distribution.\n",
    "# Fill the missing values with 0 and train a model without regularization.\n",
    "# For each seed, evaluate the model on the validation dataset and collect the RMSE scores.\n",
    "# What's the standard deviation of all the scores? To compute the standard deviation, use np.std.\n",
    "# Round the result to 3 decimal digits (round(std, 3))"
   ]
  },
  {
   "cell_type": "code",
   "execution_count": 139,
   "id": "7bdb4c0d-b019-4c20-b1cb-1f417ed0c25d",
   "metadata": {
    "scrolled": true
   },
   "outputs": [
    {
     "name": "stdout",
     "output_type": "stream",
     "text": [
      "0 565.45\n",
      "1 636.8\n",
      "2 588.96\n",
      "3 597.81\n",
      "4 571.96\n",
      "5 573.24\n",
      "6 647.34\n",
      "7 550.44\n",
      "8 587.33\n",
      "9 576.1\n"
     ]
    }
   ],
   "source": [
    "scores=[]\n",
    "for v in range(10):\n",
    "    np.random.seed(v)\n",
    "    \n",
    "    n = len(df)\n",
    "    \n",
    "    n_val = int(0.2 * n)\n",
    "    n_test = int(0.2 * n)\n",
    "    n_train = n - (n_val + n_test)\n",
    "    \n",
    "    idx = np.arange(n)\n",
    "    np.random.shuffle(idx)\n",
    "    \n",
    "    df_shuffled = df.iloc[idx]\n",
    "    \n",
    "    df_train = df_shuffled.iloc[:n_train].copy()\n",
    "    df_val = df_shuffled.iloc[n_train:n_train+n_val].copy()\n",
    "    df_test = df_shuffled.iloc[n_train+n_val:].copy()\n",
    "    y_train_orig = df_train.final_price.values\n",
    "    y_val_orig = df_val.final_price.values\n",
    "    y_test_orig = df_test.final_price.values\n",
    "    \n",
    "\n",
    "    y_train = df_train.final_price.values\n",
    "    y_val = df_val.final_price.values\n",
    "    y_test = df_test.final_price.values\n",
    "\n",
    "      \n",
    "    \n",
    "    del df_train['final_price']\n",
    "    del df_val['final_price']\n",
    "    del df_test['final_price']\n",
    "    X_train = prepare_X(df_train)\n",
    "    w_0, w = train_linear_regression(X_train, y_train)\n",
    "    X_val = prepare_X(df_val)\n",
    "    y_pred = w_0 + X_val.dot(w)\n",
    "    rm=round(rmse(y_val, y_pred),2)\n",
    "    print(v,rm)\n",
    "    scores.append(rm)\n",
    "    \n",
    "    \n",
    "    "
   ]
  },
  {
   "cell_type": "code",
   "execution_count": 320,
   "id": "fe78ecf6-9738-48e2-970f-fb6bd320dc43",
   "metadata": {},
   "outputs": [
    {
     "data": {
      "text/plain": [
       "[np.float64(565.45),\n",
       " np.float64(636.8),\n",
       " np.float64(588.96),\n",
       " np.float64(597.81),\n",
       " np.float64(571.96),\n",
       " np.float64(573.24),\n",
       " np.float64(647.34),\n",
       " np.float64(550.44),\n",
       " np.float64(587.33),\n",
       " np.float64(576.1)]"
      ]
     },
     "execution_count": 320,
     "metadata": {},
     "output_type": "execute_result"
    }
   ],
   "source": [
    "scores"
   ]
  },
  {
   "cell_type": "code",
   "execution_count": 140,
   "id": "7ac6fdad-292a-49c1-bbdd-739aa9c5f533",
   "metadata": {},
   "outputs": [
    {
     "data": {
      "text/plain": [
       "np.float64(29.176)"
      ]
     },
     "execution_count": 140,
     "metadata": {},
     "output_type": "execute_result"
    }
   ],
   "source": [
    "round(np.std(scores),3)"
   ]
  },
  {
   "cell_type": "code",
   "execution_count": 148,
   "id": "b1d8a0c2-496f-4f3d-8e71-cb1b0a0b5766",
   "metadata": {},
   "outputs": [
    {
     "name": "stdout",
     "output_type": "stream",
     "text": [
      "614.11\n"
     ]
    }
   ],
   "source": [
    "np.random.seed(9)\n",
    "    \n",
    "n = len(df)\n",
    "\n",
    "n_val = int(0.2 * n)\n",
    "n_test = int(0.2 * n)\n",
    "n_train = n - (n_val + n_test)\n",
    "\n",
    "idx = np.arange(n)\n",
    "np.random.shuffle(idx)\n",
    "\n",
    "df_shuffled = df.iloc[idx]\n",
    "\n",
    "df_train = df_shuffled.iloc[:n_train].copy()\n",
    "df_val = df_shuffled.iloc[n_train:n_train+n_val].copy()\n",
    "df_test = df_shuffled.iloc[n_train+n_val:].copy()\n",
    "\n",
    "\n",
    "\n",
    "y_train = df_train.final_price.values\n",
    "y_val = df_val.final_price.values\n",
    "y_test = df_test.final_price.values\n",
    "\n",
    "del df_train['final_price']\n",
    "del df_val['final_price']\n",
    "del df_test['final_price']\n",
    "X_train = prepare_X(df_train)\n",
    "w_0, w = train_linear_regression_reg(X_train, y_train, r=0.001)\n",
    "X_test = prepare_X(df_test)\n",
    "y_pred = w_0 + X_test.dot(w)\n",
    "rm=round(rmse(y_test, y_pred),2)\n",
    "print(rm)"
   ]
  },
  {
   "cell_type": "code",
   "execution_count": 149,
   "id": "f224cb2e-cdb6-4553-9c09-a164261cf806",
   "metadata": {},
   "outputs": [
    {
     "name": "stdout",
     "output_type": "stream",
     "text": [
      "608.6099822049573\n"
     ]
    }
   ],
   "source": [
    "df_full_train = pd.concat([df_train, df_val])\n",
    "df_full_train = df_full_train.reset_index(drop=True)\n",
    "\n",
    "X_full_train = prepare_X(df_full_train)\n",
    "y_full_train = np.concatenate([y_train, y_val])\n",
    "w_0, w = train_linear_regression_reg(X_full_train, y_full_train, r=0.001)\n",
    "\n",
    "X_test = prepare_X(df_test)\n",
    "y_pred = w_0 + X_test.dot(w)\n",
    "\n",
    "result = rmse(y_test, y_pred)\n",
    "print(result)"
   ]
  },
  {
   "cell_type": "code",
   "execution_count": 150,
   "id": "a1cb6532-9172-45e5-843e-1f6efaa5d47c",
   "metadata": {},
   "outputs": [
    {
     "data": {
      "text/plain": [
       "np.float64(0.5840739849944818)"
      ]
     },
     "execution_count": 150,
     "metadata": {},
     "output_type": "execute_result"
    }
   ],
   "source": [
    "np.expm1(0.46)"
   ]
  },
  {
   "cell_type": "code",
   "execution_count": null,
   "id": "fd7ea592-5110-4a3a-ae26-bb1c2c50dd91",
   "metadata": {},
   "outputs": [],
   "source": []
  },
  {
   "cell_type": "code",
   "execution_count": 151,
   "id": "cf2e7488-2220-4913-ae5c-6e873076a366",
   "metadata": {},
   "outputs": [
    {
     "data": {
      "text/plain": [
       "np.float64(3.044522437723423)"
      ]
     },
     "execution_count": 151,
     "metadata": {},
     "output_type": "execute_result"
    }
   ],
   "source": [
    "g=np.log1p(20)\n",
    "g"
   ]
  },
  {
   "cell_type": "code",
   "execution_count": 152,
   "id": "d9526679-0a4f-4321-80c6-ab581580123a",
   "metadata": {},
   "outputs": [
    {
     "data": {
      "text/plain": [
       "np.float64(20.0)"
      ]
     },
     "execution_count": 152,
     "metadata": {},
     "output_type": "execute_result"
    }
   ],
   "source": [
    "np.expm1(g)"
   ]
  },
  {
   "cell_type": "code",
   "execution_count": 153,
   "id": "475f9113-d254-4dff-b034-ce25b0bfd021",
   "metadata": {},
   "outputs": [
    {
     "data": {
      "text/plain": [
       "np.float64(705.4714169056714)"
      ]
     },
     "execution_count": 153,
     "metadata": {},
     "output_type": "execute_result"
    }
   ],
   "source": [
    "np.std(y_pred)"
   ]
  },
  {
   "cell_type": "code",
   "execution_count": 235,
   "id": "c36fa4e6-2185-486f-b184-97059e404f28",
   "metadata": {},
   "outputs": [
    {
     "data": {
      "text/plain": [
       "np.float64(1005.7342094090634)"
      ]
     },
     "execution_count": 235,
     "metadata": {},
     "output_type": "execute_result"
    }
   ],
   "source": [
    "np.std(np.expm1(y_pred))"
   ]
  },
  {
   "cell_type": "code",
   "execution_count": null,
   "id": "c7255fc8-66de-4456-bb2b-b3f7470cd4dd",
   "metadata": {},
   "outputs": [],
   "source": []
  },
  {
   "cell_type": "code",
   "execution_count": null,
   "id": "de304901-49bf-42b9-8e08-349c2c20cd6e",
   "metadata": {},
   "outputs": [],
   "source": []
  }
 ],
 "metadata": {
  "kernelspec": {
   "display_name": "Python 3 (ipykernel)",
   "language": "python",
   "name": "python3"
  },
  "language_info": {
   "codemirror_mode": {
    "name": "ipython",
    "version": 3
   },
   "file_extension": ".py",
   "mimetype": "text/x-python",
   "name": "python",
   "nbconvert_exporter": "python",
   "pygments_lexer": "ipython3",
   "version": "3.11.9"
  },
  "widgets": {
   "application/vnd.jupyter.widget-state+json": {
    "state": {},
    "version_major": 2,
    "version_minor": 0
   }
  }
 },
 "nbformat": 4,
 "nbformat_minor": 5
}
