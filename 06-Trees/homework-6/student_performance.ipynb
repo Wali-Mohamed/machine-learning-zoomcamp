{
 "cells": [
  {
   "cell_type": "markdown",
   "id": "e3bcf2fd-8da6-4d74-b561-652d33271fe6",
   "metadata": {},
   "source": [
    " https://www.kaggle.com/datasets/idowuadamo/students-performance-in-2024-jamb"
   ]
  },
  {
   "cell_type": "code",
   "execution_count": null,
   "id": "85e30e33-71fe-46b7-829f-b40472fd783b",
   "metadata": {},
   "outputs": [],
   "source": []
  }
 ],
 "metadata": {
  "kernelspec": {
   "display_name": "Python 3 (ipykernel)",
   "language": "python",
   "name": "python3"
  },
  "language_info": {
   "codemirror_mode": {
    "name": "ipython",
    "version": 3
   },
   "file_extension": ".py",
   "mimetype": "text/x-python",
   "name": "python",
   "nbconvert_exporter": "python",
   "pygments_lexer": "ipython3",
   "version": "3.12.4"
  }
 },
 "nbformat": 4,
 "nbformat_minor": 5
}
